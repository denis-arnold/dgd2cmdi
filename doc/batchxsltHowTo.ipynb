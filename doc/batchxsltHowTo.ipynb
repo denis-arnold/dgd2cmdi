{
 "metadata": {
  "name": "",
  "signature": "sha256:ef1c7aec969172cbcc056a165ce65a9d121e701add6b4f1383b4108ebf8f5673"
 },
 "nbformat": 3,
 "nbformat_minor": 0,
 "worksheets": [
  {
   "cells": [
    {
     "cell_type": "heading",
     "level": 1,
     "metadata": {},
     "source": [
      "batchxslt HowTo"
     ]
    },
    {
     "cell_type": "markdown",
     "metadata": {},
     "source": [
      "This is a tutorial on how to use batchxslt. \n",
      "First, make sure you have *install libxml2* on your system. On ubuntu-esque linux distributions, you can install it directly via the official ppas using apt-get:"
     ]
    },
    {
     "cell_type": "markdown",
     "metadata": {},
     "source": [
      "```bash\n",
      "sudo apt-get install libxml2\n",
      "```"
     ]
    },
    {
     "cell_type": "markdown",
     "metadata": {},
     "source": [
      "If you are using Windows, you can install libxml2 binaries provided here\n",
      "http://www.zlatkovic.com/libxml.en.html\n",
      "\n",
      "You also have to install the *saxon xslt processor*. It is recommended to put its .jar into the *saxon* directory of batchxslt and let your configuration file point to it.\n",
      "You will find saxon downloads on its official site http://www.saxonica.com/\n",
      "The package has been tested with saxon9he.jar.\n",
      "\n",
      "It is possible to use other xslt processors. However, in terms of documentation and compatibility I strongly recommend to use saxon. "
     ]
    },
    {
     "cell_type": "heading",
     "level": 2,
     "metadata": {},
     "source": [
      "Setting up config.xml"
     ]
    },
    {
     "cell_type": "markdown",
     "metadata": {},
     "source": [
      "To have batchxslt find the right paths to sources and output folders as well as the xsl processor used, you must must first set up config.xml. This is a simple xml file used by ConfigParser (see below) when instantiated.    "
     ]
    },
    {
     "cell_type": "heading",
     "level": 3,
     "metadata": {},
     "source": [
      "An example config.xml file"
     ]
    },
    {
     "cell_type": "markdown",
     "metadata": {},
     "source": [
      "```xml\n",
      "<?xml version=\"1.0\" encoding=\"UTF-8\"?>\n",
      "<!-- Configuration File for XSLT Batch processing script batchxslt\n",
      "Documentation of attribute value:\n",
      "processor - defines a xslt processor\n",
      "stylesheet - a stylesheet that is used to transform the referred data\n",
      "indirectory - the directory where the xml data to be transformed is found\n",
      "prefix - the prefix-label that is added to the filename of the transformed file (readabilty purpose)\n",
      "outdirectory - the output directory for the transformed file \n",
      "\n",
      "This is an example configuration for dgd metadata transformation.\n",
      "\n",
      "-->\n",
      "<CONFIG>\n",
      "    <GLOBAL type=\"processor\">../../saxon/saxon9he.jar</GLOBAL>\n",
      "\n",
      "    <CORPUS type=\"stylesheet\" corpus=\"\">../../../xslt/dgdCorpus2cmdi_Rev2.xsl</CORPUS>\n",
      "    <CORPUS type=\"indirectory\" corpus=\"\">../../../../metadata/corpora/extern</CORPUS>\n",
      "    <CORPUS type=\"prefix\" corpus=\"\">CMDI_</CORPUS>\n",
      "    <CORPUS type=\"outdirectory\" corpus=\"\">../../../cmdiOutput/corpus</CORPUS>\n",
      "\n",
      "    <EVENT type=\"stylesheet\" corpus=\"\">../../../xslt/dgdEvent2cmdi_Rev3.xsl</EVENT>\n",
      "    <EVENT type=\"indirectory\" corpus=\"\">../../../../metadata/events/extern</EVENT>\n",
      "    <EVENT type=\"prefix\" corpus=\"\">CMDI_</EVENT>\n",
      "    <EVENT type=\"outdirectory\" corpus=\"\">../../../cmdiOutput/event</EVENT>\n",
      "\n",
      "    <SPEAKER type=\"stylesheet\" corpus=\"\">../../../xslt/dgdSpeaker2cmdi_Rev2.xsl</SPEAKER>\n",
      "    <SPEAKER type=\"indirectory\" corpus=\"\">../../../../metadata/speakers/extern</SPEAKER>\n",
      "    <SPEAKER type=\"prefix\" corpus=\"\">CMDI_</SPEAKER>\n",
      "    <SPEAKER type=\"outdirectory\" corpus=\"\">../../../cmdiOutput/speakers</SPEAKER>\n",
      "    \n",
      "</CONFIG>\n",
      "```"
     ]
    },
    {
     "cell_type": "heading",
     "level": 2,
     "metadata": {},
     "source": [
      "Writing a start script"
     ]
    },
    {
     "cell_type": "markdown",
     "metadata": {},
     "source": [
      "Batchxslt comes packed with dgdstart.py which is a main module for starting a transformation process fitted to dgd data. If you plan to transform dgd data and you have set up your config.xml correctly, you just need to start dgdstart.py and pass config.xml as an argument."
     ]
    },
    {
     "cell_type": "markdown",
     "metadata": {},
     "source": [
      "```bash\n",
      "python dgdstart.py config.xml\n",
      "```"
     ]
    },
    {
     "cell_type": "heading",
     "level": 3,
     "metadata": {},
     "source": [
      "dgdstart.py "
     ]
    },
    {
     "cell_type": "code",
     "collapsed": false,
     "input": [
      "__author__ = 'kuhn'\n",
      "\n",
      "\"\"\"\n",
      "starts transformation with dgd configuration.\n",
      "\"\"\"\n",
      "\n",
      "import processorClasses\n",
      "import sys\n",
      "\n",
      "# read the configuration file from command line\n",
      "configuration = processorClasses.ConfigParser(sys.argv[1])\n",
      "\n",
      "# set the xslt processor\n",
      "processor = processorClasses.XSLBatchProcessor(configuration.globals.get(\"processor\"))\n",
      "\n",
      "# start the processor for corpus, event and speaker\n",
      "print \"starting corpus transformations\"\n",
      "processor.start(configuration.corpus.get(\"stylesheet\"),\n",
      "                 configuration.corpus.get(\"indirectory\"),\n",
      "                 configuration.corpus.get(\"prefix\"),\n",
      "                 configuration.corpus.get(\"outdirectory\"))\n",
      "print \"starting event transformations\"\n",
      "processor.start(configuration.event.get(\"stylesheet\"),\n",
      "                 configuration.event.get(\"indirectory\"),\n",
      "                 configuration.event.get(\"prefix\"),\n",
      "                 configuration.event.get(\"outdirectory\"))\n",
      "print \"starting speaker transformation\"\n",
      "processor.start(configuration.speaker.get(\"stylesheet\"),\n",
      "                configuration.speaker.get(\"indirectory\"),\n",
      "                configuration.speaker.get(\"prefix\"),\n",
      "                configuration.speaker.get(\"outdirectory\"))\n",
      "\n",
      "print \"finished tranformations\"\n"
     ],
     "language": "python",
     "metadata": {},
     "outputs": []
    },
    {
     "cell_type": "markdown",
     "metadata": {},
     "source": [
      "First of all, configuration and processor are created to store the paths of the configuration file.  "
     ]
    },
    {
     "cell_type": "markdown",
     "metadata": {},
     "source": [
      "```python\n",
      "# read the configuration file from command line\n",
      "configuration = processorClasses.ConfigParser(sys.argv[1])\n",
      "\n",
      "# set the xslt processor\n",
      "processor = processorClasses.XSLBatchProcessor(configuration.globals.get(\"processor\"))\n",
      "```"
     ]
    },
    {
     "cell_type": "markdown",
     "metadata": {},
     "source": [
      "After that, each data division (corpus, event, speaker) is processed by starting the processor with the correct arguments taken from the configuration."
     ]
    },
    {
     "cell_type": "markdown",
     "metadata": {},
     "source": [
      "```python\n",
      "processor.start(configuration.corpus.get(\"stylesheet\"),\n",
      "                 configuration.corpus.get(\"indirectory\"),\n",
      "                 configuration.corpus.get(\"prefix\"),\n",
      "                 configuration.corpus.get(\"outdirectory\"))\n",
      "```"
     ]
    },
    {
     "cell_type": "markdown",
     "metadata": {},
     "source": [
      "Note that *outdirectory* will create a mirror of the source subdirectory structure of all corpora. If the directories already exist, batchxslt will give you a warning but continue to write over all files already existing in that directory. "
     ]
    },
    {
     "cell_type": "code",
     "collapsed": false,
     "input": [],
     "language": "python",
     "metadata": {},
     "outputs": []
    }
   ],
   "metadata": {}
  }
 ]
}