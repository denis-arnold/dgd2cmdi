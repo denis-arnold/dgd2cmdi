{
 "cells": [
  {
   "cell_type": "markdown",
   "metadata": {},
   "source": [
    "# Working with BatchXSLT\n",
    "\n",
    "This is a tutorial for the Python-Wrapper batchxslt. This package is specified to transform language resources of the dgd metafile xml format to the clarin medata format by using xsl stylesheets and saxon. I wrote this wrapper to make corpus transformation less painful and more extensible. Though processing with lxml is easy, I decided keep transformation to the xlst processor and management of it to batchxslt so users not familiar with lxml can stick to xslt and rely on this tutorial for their needs.\n",
    "\n",
    "\n",
    "## 1. Transform metadata from dgd to cmdi format"
   ]
  },
  {
   "cell_type": "markdown",
   "metadata": {},
   "source": [
    "* define resource locators (corpus, event, speakers directories and saxon and xsl directories)\n",
    "* define an output directory "
   ]
  },
  {
   "cell_type": "code",
   "execution_count": 3,
   "metadata": {},
   "outputs": [],
   "source": [
    "# using absolute paths \n",
    "corpus_dir = \"/home/kuhn/Data/IDS/svn_rev1233/dgd2_data/metadata/corpora/extern\"\n",
    "event_dir = \"/home/kuhn/Data/IDS/svn_rev1233/dgd2_data/metadata/events/extern\"\n",
    "speakers_dir = \"/home/kuhn/Data/IDS/svn_rev1233/dgd2_data/metadata/speakers/extern\"\n",
    "xsl_dir = \"/home/kuhn/Data/IDS/svn/dgd2_data/dgd2cmdi/xslt/\"\n",
    "corpus_xsl = xsl_dir + \"dgdCorpus2cmdi.xsl\"\n",
    "event_xsl = xsl_dir + \"dgdEvent2cmdi.xsl\"\n",
    "speaker_xsl = xsl_dir + \"dgdSpeaker2cmdi.xsl\"\n",
    "saxon_jar = \"/home/kuhn/Data/IDS/svn/dgd2_data/dgd2cmdi/batchxslt/saxon/saxon9he.jar\"\n",
    "out_corp = \"/home/kuhn/Data/cmdi_final/corpus\"\n",
    "out_event = \"/home/kuhn/Data/cmdi_final/events\"\n",
    "out_speaker = \"/home/kuhn/Data/cmdi_final/speakers\""
   ]
  },
  {
   "cell_type": "code",
   "execution_count": 1,
   "metadata": {},
   "outputs": [],
   "source": [
    "# import the xsl wrapper\n",
    "from batchxslt import processor"
   ]
  },
  {
   "cell_type": "code",
   "execution_count": 4,
   "metadata": {},
   "outputs": [],
   "source": [
    "xsl_processor = processor.XSLBatchProcessor(saxon_jar)"
   ]
  },
  {
   "cell_type": "code",
   "execution_count": 5,
   "metadata": {},
   "outputs": [],
   "source": [
    "# show me the api doc of the start method\n",
    "xsl_processor.start?"
   ]
  },
  {
   "cell_type": "code",
   "execution_count": 5,
   "metadata": {},
   "outputs": [
    {
     "name": "stdout",
     "output_type": "stream",
     "text": [
      "stylesheet: /home/kuhn/Data/IDS/svn/dgd2_data/dgd2cmdi/xslt/dgdCorpus2cmdi.xsl\n",
      "outputdir: /home/kuhn/Data/cmdi_final/corpus\n",
      "xmldata: /home/kuhn/Data/IDS/svn_rev1233/dgd2_data/metadata/corpora/extern\n",
      "CPU times: user 5.26 ms, sys: 10.5 ms, total: 15.8 ms\n",
      "Wall time: 15.3 s\n"
     ]
    }
   ],
   "source": [
    "%time xsl_processor.start(corpus_xsl, corpus_dir, \"cmdi_\", out_corp)"
   ]
  },
  {
   "cell_type": "code",
   "execution_count": 6,
   "metadata": {},
   "outputs": [
    {
     "name": "stdout",
     "output_type": "stream",
     "text": [
      "stylesheet: /home/kuhn/Data/IDS/svn/dgd2_data/dgd2cmdi/xslt/dgdEvent2cmdi.xsl\n",
      "outputdir: /home/kuhn/Data/cmdi_final/events\n",
      "xmldata: /home/kuhn/Data/IDS/svn_rev1233/dgd2_data/metadata/events/extern\n",
      "CPU times: user 613 ms, sys: 5.7 s, total: 6.31 s\n",
      "Wall time: 2h 21min 2s\n"
     ]
    }
   ],
   "source": [
    "%time xsl_processor.start(event_xsl, event_dir, \"cmdi_\", out_event)"
   ]
  },
  {
   "cell_type": "code",
   "execution_count": 7,
   "metadata": {},
   "outputs": [
    {
     "name": "stdout",
     "output_type": "stream",
     "text": [
      "stylesheet: /home/kuhn/Data/IDS/svn/dgd2_data/dgd2cmdi/xslt/dgdSpeaker2cmdi.xsl\n",
      "outputdir: /home/kuhn/Data/cmdi_final/speakers\n",
      "xmldata: /home/kuhn/Data/IDS/svn_rev1233/dgd2_data/metadata/speakers/extern\n",
      "CPU times: user 654 ms, sys: 7.1 s, total: 7.75 s\n",
      "Wall time: 2h 20min 37s\n"
     ]
    }
   ],
   "source": [
    "%time xsl_processor.start(speaker_xsl, speakers_dir, \"cmdi_\", out_speaker)"
   ]
  },
  {
   "cell_type": "markdown",
   "metadata": {},
   "source": [
    "## 2. Defining Resource Proxies"
   ]
  },
  {
   "cell_type": "markdown",
   "metadata": {},
   "source": [
    "Once the original metadata files have been transformed to cmdi, we can go on to build up a resource tree structure of it. For this purpose, we can use the module **cmdiresource**.  "
   ]
  },
  {
   "cell_type": "code",
   "execution_count": 24,
   "metadata": {},
   "outputs": [],
   "source": [
    "from batchxslt import cmdiresource\n",
    "from batchxslt import cmdiheader\n",
    "import os\n",
    "import logging"
   ]
  },
  {
   "cell_type": "markdown",
   "metadata": {},
   "source": [
    "We define the paths to our recently transformed data"
   ]
  },
  {
   "cell_type": "code",
   "execution_count": 22,
   "metadata": {},
   "outputs": [],
   "source": [
    "corpus = \"/home/kuhn/Data/cmdi_final/corpus/\"\n",
    "event = \"/home/kuhn/Data/cmdi_final/events/\"\n",
    "speakers = \"/home/kuhn/Data/cmdi_final/speakers/\"\n",
    "transcripts = \"/home/kuhn/Data/IDS/svn_rev1233/dgd2_data/transcripts/\"\n",
    "\n",
    "cmdi_final = '/tmp/cmdi/all'"
   ]
  },
  {
   "cell_type": "markdown",
   "metadata": {},
   "source": [
    "Now define a ResourceTreeCollection instance."
   ]
  },
  {
   "cell_type": "code",
   "execution_count": 8,
   "metadata": {},
   "outputs": [
    {
     "name": "stdout",
     "output_type": "stream",
     "text": [
      "CPU times: user 2.28 s, sys: 535 ms, total: 2.82 s\n",
      "Wall time: 2.84 s\n"
     ]
    }
   ],
   "source": [
    "%time resourcetree = cmdiresource.ResourceTreeCollection(corpus, event, speakers, transcripts)"
   ]
  },
  {
   "cell_type": "code",
   "execution_count": 9,
   "metadata": {},
   "outputs": [
    {
     "data": {
      "text/plain": [
       "45328"
      ]
     },
     "execution_count": 9,
     "output_type": "execute_result",
     "metadata": {}
    }
   ],
   "source": [
    "resourcetree.size()"
   ]
  },
  {
   "cell_type": "code",
   "execution_count": 10,
   "metadata": {},
   "outputs": [],
   "source": [
    "# define ids for all node objects\n",
    "counter = 0\n",
    "for node in resourcetree.nodes_iter():\n",
    "    corpuslabel = node.split('_')[0].rstrip('-')\n",
    "    resourcetree.node.get(node).update({'id': corpuslabel + '_' + str(counter)})\n",
    "    counter += 1"
   ]
  },
  {
   "cell_type": "markdown",
   "metadata": {},
   "source": [
    "ResourceTreeCollection inherits from networx.DiGraph and builds up a resource tree for all resources of the dgd2.\n",
    "Lets look at a random resource node."
   ]
  },
  {
   "cell_type": "code",
   "execution_count": 11,
   "metadata": {},
   "outputs": [],
   "source": [
    "resourcetree.build_resourceproxy()"
   ]
  },
  {
   "cell_type": "code",
   "execution_count": 12,
   "metadata": {},
   "outputs": [],
   "source": [
    "for nodename in resourcetree.nodes_iter():\n",
    "    if resourcetree.node.get(nodename).get('type') == 'event':\n",
    "        resourcetree.define_parts(nodename)\n",
    "    elif resourcetree.node.get(nodename).get('type') == 'corpus':\n",
    "        resourcetree.define_parts(nodename)"
   ]
  },
  {
   "cell_type": "code",
   "execution_count": 13,
   "metadata": {},
   "outputs": [],
   "source": [
    "for nodename in resourcetree.nodes_iter():\n",
    "    if resourcetree.node.get(nodename).get('type') == 'speaker':\n",
    "        resourcetree.speaker2event(nodename)"
   ]
  },
  {
   "cell_type": "markdown",
   "metadata": {},
   "source": [
    "## 3. Write all corpora to separate cmdi folders\n"
   ]
  },
  {
   "cell_type": "code",
   "execution_count": 28,
   "metadata": {},
   "outputs": [
    {
     "name": "stdout",
     "output_type": "stream",
     "text": [
      "processing: BR\n",
      "processing: EK\n",
      "processing: SA\n",
      "processing: KN\n",
      "processing: BW\n",
      "processing: ISZ\n",
      "processing: FR\n",
      "processing: IS\n",
      "processing: PF\n",
      "processing: SR\n",
      "processing: AD\n",
      "processing: FOLK\n",
      "processing: SV\n",
      "processing: SW\n",
      "processing: MV\n",
      "processing: HL\n",
      "processing: OS\n",
      "processing: ISW\n",
      "processing: ZW\n",
      "processing: BB\n"
     ]
    },
    {
     "ename": "OSError",
     "evalue": "[Errno 17] File exists: '/tmp/cmdi/all/BB'",
     "output_type": "error",
     "traceback": [
      "\u001b[1;31m---------------------------------------------------------------------------\u001b[0m",
      "\u001b[1;31mOSError\u001b[0m                                   Traceback (most recent call last)",
      "\u001b[1;32m<ipython-input-28-232f1234a606>\u001b[0m in \u001b[0;36m<module>\u001b[1;34m()\u001b[0m\n\u001b[0;32m      4\u001b[0m     \u001b[1;32mprint\u001b[0m \u001b[1;34m'processing: '\u001b[0m \u001b[1;33m+\u001b[0m \u001b[0mcorpusname\u001b[0m\u001b[1;33m\u001b[0m\u001b[0m\n\u001b[0;32m      5\u001b[0m     \u001b[1;32mtry\u001b[0m\u001b[1;33m:\u001b[0m\u001b[1;33m\u001b[0m\u001b[0m\n\u001b[1;32m----> 6\u001b[1;33m         \u001b[0mos\u001b[0m\u001b[1;33m.\u001b[0m\u001b[0mmkdir\u001b[0m\u001b[1;33m(\u001b[0m\u001b[0mos\u001b[0m\u001b[1;33m.\u001b[0m\u001b[0mpath\u001b[0m\u001b[1;33m.\u001b[0m\u001b[0mjoin\u001b[0m\u001b[1;33m(\u001b[0m\u001b[0mcmdi_final\u001b[0m\u001b[1;33m,\u001b[0m \u001b[0mcorpusname\u001b[0m\u001b[1;33m)\u001b[0m\u001b[1;33m)\u001b[0m\u001b[1;33m\u001b[0m\u001b[0m\n\u001b[0m\u001b[0;32m      7\u001b[0m     \u001b[1;32mexcept\u001b[0m \u001b[0mIOError\u001b[0m\u001b[1;33m:\u001b[0m\u001b[1;33m\u001b[0m\u001b[0m\n\u001b[0;32m      8\u001b[0m         \u001b[0mlogging\u001b[0m\u001b[1;33m.\u001b[0m\u001b[0merror\u001b[0m\u001b[1;33m(\u001b[0m\u001b[1;34m'cannot create directory'\u001b[0m \u001b[1;33m+\u001b[0m \u001b[0mcorpusname\u001b[0m\u001b[1;33m)\u001b[0m\u001b[1;33m\u001b[0m\u001b[0m\n",
      "\u001b[1;31mOSError\u001b[0m: [Errno 17] File exists: '/tmp/cmdi/all/BB'"
     ]
    }
   ],
   "source": [
    "import os\n",
    "# get a list of all labels of corpora (e.g. list them in the event directory)\n",
    "for corpusname in os.listdir(event):\n",
    "    print 'processing: ' + corpusname\n",
    "    try:\n",
    "        os.mkdir(os.path.join(cmdi_final, corpusname))\n",
    "    except IOError:\n",
    "        logging.error('cannot create directory' + corpusname)\n",
    "        \n",
    "    cmdiheader.define_header(corpusname, resourcetree)\n",
    "    resourcetree.write_cmdi(corpusname, os.path.join(os.path.join(cmdi_final, corpusname), corpusname + '.cmdi'))\n",
    "    # iterate over all successors of a corpus\n",
    "    for nodename in resourcetree.successors_iter(corpusname):\n",
    "        if resourcetree.node.get(nodename).get('type') == 'event':\n",
    "            cmdiheader.define_header(nodename, resourcetree)\n",
    "            resourcetree.write_cmdi(nodename, os.path.join(cmdi_final, corpusname + '/' + nodename + '.cmdi'))"
   ]
  }
 ],
 "metadata": {
  "kernelspec": {
   "display_name": "Python 2",
   "language": "python",
   "name": "python2"
  },
  "language_info": {
   "codemirror_mode": {
    "name": "ipython",
    "version": 2.0
   },
   "file_extension": ".py",
   "mimetype": "text/x-python",
   "name": "python",
   "nbconvert_exporter": "python",
   "pygments_lexer": "ipython2",
   "version": "2.7.6"
  }
 },
 "nbformat": 4,
 "nbformat_minor": 0
}