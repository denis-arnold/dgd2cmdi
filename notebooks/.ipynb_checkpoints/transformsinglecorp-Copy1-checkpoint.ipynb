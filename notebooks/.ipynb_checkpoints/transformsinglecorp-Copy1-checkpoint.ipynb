{
 "cells": [
  {
   "cell_type": "markdown",
   "metadata": {},
   "source": [
    "# Working with BatchXSLT\n",
    "\n",
    "This is a tutorial for the Python-Wrapper batchxslt. This package is specified to transform language resources of the dgd metafile xml format to the clarin medata format by using xsl stylesheets and saxon. I wrote this wrapper to make corpus transformation less painful and more extensible. Though processing with lxml is easy, I decided keep transformation to the xlst processor and management of it to batchxslt so users not familiar with lxml can stick to xslt and rely on this tutorial for their needs. \n",
    "\n",
    "## Transform metadata from dgd to cmdi format"
   ]
  },
  {
   "cell_type": "markdown",
   "metadata": {},
   "source": [
    "* define resource locators (corpus, event, speakers directories and saxon and xsl directories)\n",
    "* define an output directory "
   ]
  },
  {
   "cell_type": "code",
   "execution_count": 1,
   "metadata": {
    "collapsed": true
   },
   "outputs": [],
   "source": [
    "# using absolute paths \n",
    "corpus_dir = \"/home/kuhn/Data/IDS/svn/dgd2_data/metadata/corpora/extern\"\n",
    "event_dir = \"/home/kuhn/Data/IDS/svn/dgd2_data/metadata/events/extern\"\n",
    "speakers_dir = \"/home/kuhn/Data/IDS/svn/dgd2_data/metadata/speakers/extern\"\n",
    "xsl_dir = \"/home/kuhn/Data/IDS/svn/dgd2_data/dgd2cmdi/xslt/\"\n",
    "corpus_xsl = xsl_dir + \"dgdCorpus2cmdi.xsl\"\n",
    "event_xsl = xsl_dir + \"dgdEvent2cmdi.xsl\"\n",
    "speaker_xsl = xsl_dir + \"dgdSpeaker2cmdi.xml\"\n",
    "saxon_jar = \"/home/kuhn/Data/IDS/svn/dgd2_data/dgd2cmdi/batchxslt/saxon/saxon9he.jar\"\n",
    "out_corp = \"/tmp/cmdi/corpus\"\n",
    "out_event = \"/tmp/cmdi/event\"\n",
    "out_speaker = \"tmp/cmdi/speakers\""
   ]
  },
  {
   "cell_type": "code",
   "execution_count": 2,
   "metadata": {
    "collapsed": true
   },
   "outputs": [],
   "source": [
    "# import the xsl wrapper\n",
    "from batchxslt import processor"
   ]
  },
  {
   "cell_type": "code",
   "execution_count": 3,
   "metadata": {
    "collapsed": true
   },
   "outputs": [],
   "source": [
    "xsl_processor = processor.XSLBatchProcessor(saxon_jar)"
   ]
  },
  {
   "cell_type": "code",
   "execution_count": 8,
   "metadata": {
    "collapsed": true
   },
   "outputs": [],
   "source": [
    "# show me the api doc of the start method\n",
    "xsl_processor.start?"
   ]
  },
  {
   "cell_type": "code",
   "execution_count": 4,
   "metadata": {
    "collapsed": false
   },
   "outputs": [
    {
     "name": "stdout",
     "output_type": "stream",
     "text": [
      "stylesheet: /home/kuhn/Data/IDS/svn/dgd2_data/dgd2cmdi/xslt/dgdCorpus2cmdi.xsl\n",
      "outputdir: /tmp/cmdi/corpus\n",
      "xmldata: /home/kuhn/Data/IDS/svn/dgd2_data/metadata/corpora/extern\n",
      "CPU times: user 4.27 ms, sys: 13.6 ms, total: 17.9 ms\n",
      "Wall time: 18.1 s\n"
     ]
    }
   ],
   "source": [
    "%time xsl_processor.start(corpus_xsl, corpus_dir, \"cmdi_\", out_corp)"
   ]
  },
  {
   "cell_type": "code",
   "execution_count": null,
   "metadata": {
    "collapsed": true
   },
   "outputs": [],
   "source": [
    "%time xsl_processor.start(event_xsl, event_dir, \"cmdi_\", out_event)"
   ]
  },
  {
   "cell_type": "code",
   "execution_count": null,
   "metadata": {
    "collapsed": true
   },
   "outputs": [],
   "source": [
    "%time xls_processor.start(speaker_xsl, speaker_dir, \"cmdi_\", out_speaker)"
   ]
  },
  {
   "cell_type": "markdown",
   "metadata": {},
   "source": [
    "## Include Resource Proxies"
   ]
  },
  {
   "cell_type": "markdown",
   "metadata": {},
   "source": [
    "Once the original metadata files have been transformed to cmdi, we can go on to build up a resource tree structure of it. For this purpose, we can use the module **cmdiresource**.  "
   ]
  },
  {
   "cell_type": "code",
   "execution_count": null,
   "metadata": {
    "collapsed": true
   },
   "outputs": [],
   "source": [
    "from batchxslt import cmdiresource"
   ]
  },
  {
   "cell_type": "code",
   "execution_count": null,
   "metadata": {
    "collapsed": true
   },
   "outputs": [],
   "source": []
  }
 ],
 "metadata": {
  "kernelspec": {
   "display_name": "Python 2",
   "language": "python",
   "name": "python2"
  },
  "language_info": {
   "codemirror_mode": {
    "name": "ipython",
    "version": 2
   },
   "file_extension": ".py",
   "mimetype": "text/x-python",
   "name": "python",
   "nbconvert_exporter": "python",
   "pygments_lexer": "ipython2",
   "version": "2.7.6"
  }
 },
 "nbformat": 4,
 "nbformat_minor": 0
}
