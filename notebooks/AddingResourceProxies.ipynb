{
 "cells": [
  {
   "cell_type": "markdown",
   "metadata": {},
   "source": [
    "# Adding Resource Proxies to CMDI Metafiles"
   ]
  },
  {
   "cell_type": "markdown",
   "metadata": {},
   "source": [
    "make sure to have already converted cmdi data. Then read in this data as ResourceTreeCollection by referring to the paths of corpus, events and speakers. for this how to, I refer to absolute paths to the resources."
   ]
  },
  {
   "cell_type": "code",
   "execution_count": 1,
   "metadata": {},
   "outputs": [
    {
     "name": "stdout",
     "output_type": "stream",
     "text": [
      "['CMDI_ZW--_extern.xml', 'CMDI_FOLK_extern.xml', 'CMDI_ISZ-_extern.xml', 'CMDI_ISW-_extern.xml', 'CMDI_DR--_extern.xml', 'CMDI_SA--_extern.xml', 'CMDI_HL--_extern.xml', 'CMDI_SV--_extern.xml', 'CMDI_EK--_extern.xml', 'CMDI_DS--_extern.xml', 'CMDI_SW--_extern.xml', 'CMDI_OS--_extern.xml', 'CMDI_FR--_extern.xml', 'CMDI_BB--_extern.xml', 'CMDI_SR--_extern.xml', 'CMDI_BR--_extern.xml', 'CMDI_AD--_extern.xml', 'CMDI_MV--_extern.xml', 'CMDI_BW--_extern.xml', 'CMDI_PF--_extern.xml', 'CMDI_KN--_extern.xml', 'CMDI_IS--_extern.xml']\n",
      "['ISW', 'BW', 'BR', 'FOLK', 'MV', 'HL', 'KN', 'DS', 'OS', 'SW', 'AD', 'FR', 'PF', 'ZW', 'EK', 'IS', 'SR', 'DR', 'SA', 'BB', 'SV', 'ISZ']\n",
      "['ISW', 'BW', 'BR', 'FOLK', 'MV', 'HL', 'KN', 'DS', 'OS', 'SW', 'AD', 'FR', 'PF', 'ZW', 'IS', 'SR', 'DR', 'SA', 'SV', 'ISZ']\n"
     ]
    }
   ],
   "source": [
    "from batchxslt import cmdiresource\n",
    "\n",
    "# todo: find a less generic example\n",
    "corpus = \"/home/kuhn/Data/IDS/svn/dgd2_data/dgd2cmdi/cmdiOutput/corpus/\"\n",
    "events = \"/home/kuhn/Data/IDS/svn/dgd2_data/dgd2cmdi/cmdiOutput/event/\"\n",
    "speakers = \"/home/kuhn/Data/IDS/svn/dgd2_data/dgd2cmdi/cmdiOutput/speakers/\"\n",
    "\n",
    "resourcetree = cmdiresource.ResourceTreeCollection(corpus, events, speakers)"
   ]
  },
  {
   "cell_type": "markdown",
   "metadata": {},
   "source": [
    "the init method returns lists of all resources read in. Accesssing the data is possible via the networkx methods. The node label equals the filename without cmdi-prefix and file extension:"
   ]
  },
  {
   "cell_type": "code",
   "execution_count": 2,
   "metadata": {},
   "outputs": [
    {
     "data": {
      "text/plain": [
       "{'corpusroot': False,\n",
       " 'etreeobject': <lxml.etree._ElementTree at 0x7f1954126cf8>,\n",
       " 'filename': 'CMDI_PF--_E_00001_extern.xml',\n",
       " 'repopath': None,\n",
       " 'type': 'metadata'}"
      ]
     },
     "execution_count": 2,
     "output_type": "execute_result",
     "metadata": {}
    }
   ],
   "source": [
    "resourcetree.node.get(\"PF--_E_00001_extern\")"
   ]
  },
  {
   "cell_type": "markdown",
   "metadata": {},
   "source": [
    "all outgoing edges:"
   ]
  },
  {
   "cell_type": "code",
   "execution_count": 3,
   "metadata": {},
   "outputs": [
    {
     "data": {
      "text/plain": [
       "['PF--_S_00001']"
      ]
     },
     "execution_count": 3,
     "output_type": "execute_result",
     "metadata": {}
    }
   ],
   "source": [
    "resourcetree.findspeakers(\"PF--_E_00001_extern\")"
   ]
  },
  {
   "cell_type": "markdown",
   "metadata": {},
   "source": [
    "returning a list of speakers that are taking part in the event accessed."
   ]
  },
  {
   "cell_type": "code",
   "execution_count": 4,
   "metadata": {},
   "outputs": [
    {
     "data": {
      "text/plain": [
       "[]"
      ]
     },
     "execution_count": 4,
     "output_type": "execute_result",
     "metadata": {}
    }
   ],
   "source": [
    "resourcetree.out_edges(\"PF--_E_00001_extern\") #check why outedges is empty"
   ]
  },
  {
   "cell_type": "code",
   "execution_count": 1,
   "metadata": {},
   "outputs": [
    {
     "ename": "NameError",
     "evalue": "name 'resourcetree' is not defined",
     "output_type": "error",
     "traceback": [
      "\u001b[1;31m---------------------------------------------------------------------------\u001b[0m",
      "\u001b[1;31mNameError\u001b[0m                                 Traceback (most recent call last)",
      "\u001b[1;32m<ipython-input-1-4369b7bad061>\u001b[0m in \u001b[0;36m<module>\u001b[1;34m()\u001b[0m\n\u001b[1;32m----> 1\u001b[1;33m \u001b[0mresourcetree\u001b[0m\u001b[1;33m.\u001b[0m\u001b[0mfindevents\u001b[0m\u001b[1;33m(\u001b[0m\u001b[1;34m\"PF--_S_00001_extern\"\u001b[0m\u001b[1;33m)\u001b[0m\u001b[1;33m\u001b[0m\u001b[0m\n\u001b[0m",
      "\u001b[1;31mNameError\u001b[0m: name 'resourcetree' is not defined"
     ]
    }
   ],
   "source": [
    "resourcetree.findevents(\"PF--_S_00001_extern\")"
   ]
  },
  {
   "cell_type": "code",
   "execution_count": 7,
   "metadata": {},
   "outputs": [],
   "source": [
    "# FIXME: the label is denoting the session, not only the event. so the event is not found when defining edges.\n",
    "# TODO: either define nodes for alle sessions or find a more simple solution\n",
    "\n",
    "# FIXME: Stylesheet dgdSpeaker2cmdi.xsl sets Session Label as /InEvents/Event Label. Thus Event is never found."
   ]
  },
  {
   "cell_type": "code",
   "execution_count": 6,
   "metadata": {},
   "outputs": [
    {
     "data": {
      "text/plain": [
       "[]"
      ]
     },
     "execution_count": 6,
     "output_type": "execute_result",
     "metadata": {}
    }
   ],
   "source": [
    "resourcetree.out_edges(\"PF--_extern\")"
   ]
  },
  {
   "cell_type": "code",
   "execution_count": 1,
   "metadata": {},
   "outputs": [],
   "source": [
    "# resourcetree.edges()"
   ]
  },
  {
   "cell_type": "code",
   "execution_count": 8,
   "metadata": {},
   "outputs": [],
   "source": [
    ""
   ]
  },
  {
   "cell_type": "code",
   "execution_count": 11,
   "metadata": {},
   "outputs": [],
   "source": [
    "# serialization of resourcetr"
   ]
  },
  {
   "cell_type": "code",
   "metadata": {},
   "outputs": [],
   "source": [
    ""
   ]
  }
 ],
 "metadata": {
  "kernelspec": {
   "display_name": "Python 2",
   "language": "python",
   "name": "python2"
  },
  "language_info": {
   "codemirror_mode": {
    "name": "ipython",
    "version": 2.0
   },
   "file_extension": ".py",
   "mimetype": "text/x-python",
   "name": "python",
   "nbconvert_exporter": "python",
   "pygments_lexer": "ipython2",
   "version": "2.7.6"
  }
 },
 "nbformat": 4,
 "nbformat_minor": 0
}