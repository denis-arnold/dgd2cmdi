{
 "cells": [
  {
   "cell_type": "markdown",
   "metadata": {},
   "source": [
    "# Working with BatchXSLT\n",
    "\n",
    "This is a tutorial for the Python-Wrapper batchxslt. This package is specified to transform language resources of the dgd metafile xml format to the clarin medata format by using xsl stylesheets and saxon. I wrote this wrapper to make corpus transformation less painful and more extensible. Though processing with lxml is easy, I decided keep transformation to the xlst processor and management of it to batchxslt so users not familiar with lxml can stick to xslt and rely on this tutorial for their needs.\n",
    "\n",
    "\n",
    "## 1. Transform metadata from dgd to cmdi format"
   ]
  },
  {
   "cell_type": "markdown",
   "metadata": {},
   "source": [
    "* define resource locators (corpus, event, speakers directories and saxon and xsl directories)\n",
    "* define an output directory "
   ]
  },
  {
   "cell_type": "code",
   "execution_count": 1,
   "metadata": {
    "collapsed": true
   },
   "outputs": [],
   "source": [
    "# using absolute paths \n",
    "corpus_dir = \"/home/kuhn/Data/IDS/svn/dgd2_data/metadata/corpora/extern\"\n",
    "event_dir = \"/home/kuhn/Data/IDS/svn/dgd2_data/metadata/events/extern\"\n",
    "speakers_dir = \"/home/kuhn/Data/IDS/svn/dgd2_data/metadata/speakers/extern\"\n",
    "xsl_dir = \"/home/kuhn/Data/IDS/svn/dgd2_data/dgd2cmdi/xslt/\"\n",
    "corpus_xsl = xsl_dir + \"dgdCorpus2cmdi.xsl\"\n",
    "event_xsl = xsl_dir + \"dgdEvent2cmdi.xsl\"\n",
    "speaker_xsl = xsl_dir + \"dgdSpeaker2cmdi.xsl\"\n",
    "saxon_jar = \"/home/kuhn/Data/IDS/svn/dgd2_data/dgd2cmdi/batchxslt/saxon/saxon9he.jar\"\n",
    "out_corp = \"/tmp/cmdi/corpus\"\n",
    "out_event = \"/tmp/cmdi/event\"\n",
    "out_speaker = \"/tmp/cmdi/speakers\""
   ]
  },
  {
   "cell_type": "code",
   "execution_count": 2,
   "metadata": {
    "collapsed": true
   },
   "outputs": [],
   "source": [
    "# import the xsl wrapper\n",
    "from batchxslt import processor"
   ]
  },
  {
   "cell_type": "code",
   "execution_count": 3,
   "metadata": {
    "collapsed": true
   },
   "outputs": [],
   "source": [
    "xsl_processor = processor.XSLBatchProcessor(saxon_jar)"
   ]
  },
  {
   "cell_type": "code",
   "execution_count": 4,
   "metadata": {
    "collapsed": true
   },
   "outputs": [],
   "source": [
    "# show me the api doc of the start method\n",
    "xsl_processor.start?"
   ]
  },
  {
   "cell_type": "code",
   "execution_count": 4,
   "metadata": {
    "collapsed": false
   },
   "outputs": [
    {
     "name": "stdout",
     "output_type": "stream",
     "text": [
      "stylesheet: /home/kuhn/Data/IDS/svn/dgd2_data/dgd2cmdi/xslt/dgdCorpus2cmdi.xsl\n",
      "outputdir: /tmp/cmdi/corpus\n",
      "xmldata: /home/kuhn/Data/IDS/svn/dgd2_data/metadata/corpora/extern\n",
      "CPU times: user 4.27 ms, sys: 13.6 ms, total: 17.9 ms\n",
      "Wall time: 18.1 s\n"
     ]
    }
   ],
   "source": [
    "%time xsl_processor.start(corpus_xsl, corpus_dir, \"cmdi_\", out_corp)"
   ]
  },
  {
   "cell_type": "code",
   "execution_count": null,
   "metadata": {
    "collapsed": false
   },
   "outputs": [
    {
     "name": "stdout",
     "output_type": "stream",
     "text": [
      "stylesheet: /home/kuhn/Data/IDS/svn/dgd2_data/dgd2cmdi/xslt/dgdEvent2cmdi.xsl\n",
      "outputdir not readable: /tmp/cmdi/event\n",
      "xmldata: /home/kuhn/Data/IDS/svn/dgd2_data/metadata/events/extern"
     ]
    }
   ],
   "source": [
    "%time xsl_processor.start(event_xsl, event_dir, \"cmdi_\", out_event)"
   ]
  },
  {
   "cell_type": "code",
   "execution_count": 4,
   "metadata": {
    "collapsed": false
   },
   "outputs": [
    {
     "name": "stdout",
     "output_type": "stream",
     "text": [
      "stylesheet: /home/kuhn/Data/IDS/svn/dgd2_data/dgd2cmdi/xslt/dgdSpeaker2cmdi.xsl\n",
      "outputdir not readable: /tmp/cmdi/speakers\n",
      "xmldata: /home/kuhn/Data/IDS/svn/dgd2_data/metadata/speakers/extern\n",
      "cannot create directory /tmp/cmdi/speakers/ISW\n",
      "Maybe it already exists...\n",
      "CPU times: user 933 ms, sys: 8.78 s, total: 9.71 s\n",
      "Wall time: 18h 23min 46s\n"
     ]
    }
   ],
   "source": [
    "%time xsl_processor.start(speaker_xsl, speakers_dir, \"cmdi_\", out_speaker)"
   ]
  },
  {
   "cell_type": "markdown",
   "metadata": {},
   "source": [
    "## 2. Defining Resource Proxies"
   ]
  },
  {
   "cell_type": "markdown",
   "metadata": {},
   "source": [
    "Once the original metadata files have been transformed to cmdi, we can go on to build up a resource tree structure of it. For this purpose, we can use the module **cmdiresource**.  "
   ]
  },
  {
   "cell_type": "code",
   "execution_count": 2,
   "metadata": {
    "collapsed": true
   },
   "outputs": [],
   "source": [
    "from batchxslt import cmdiresource"
   ]
  },
  {
   "cell_type": "markdown",
   "metadata": {},
   "source": [
    "We define the paths to our recently transformed data"
   ]
  },
  {
   "cell_type": "code",
   "execution_count": 3,
   "metadata": {
    "collapsed": false
   },
   "outputs": [],
   "source": [
    "corpus = \"/home/kuhn/Data/IDS/svn/dgd2_data/dgd2cmdi/cmdiOutBeta2/corpus/\"\n",
    "event = \"/home/kuhn/Data/IDS/svn/dgd2_data/dgd2cmdi/cmdiOutBeta2/event/\"\n",
    "speakers = \"/home/kuhn/Data/IDS/svn/dgd2_data/dgd2cmdi/cmdiOutBeta2/speakers/\""
   ]
  },
  {
   "cell_type": "markdown",
   "metadata": {},
   "source": [
    "Now define a ResourceTreeCollection instance."
   ]
  },
  {
   "cell_type": "code",
   "execution_count": 4,
   "metadata": {
    "collapsed": false
   },
   "outputs": [
    {
     "name": "stdout",
     "output_type": "stream",
     "text": [
      "['cmdi_DR--_extern.xml', 'cmdi_BR--_extern.xml', 'cmdi_SA--_extern.xml', 'cmdi_MV--_extern.xml', 'cmdi_JK--_extern.xml', 'cmdi_SR--_extern.xml', 'cmdi_HL--_extern.xml', 'cmdi_EK--_extern.xml', 'cmdi_BW--_extern.xml', 'cmdi_PF--_extern.xml', 'cmdi_IS--_extern.xml', 'cmdi_ISZ-_extern.xml', 'cmdi_ZW--_extern.xml', 'cmdi_FR--_extern.xml', 'cmdi_OS--_extern.xml', 'cmdi_DS--_extern.xml', 'cmdi_ISW-_extern.xml', 'cmdi_KN--_extern.xml', 'cmdi_AD--_extern.xml', 'cmdi_FOLK_extern.xml', 'cmdi_BB--_extern.xml', 'cmdi_SW--_extern.xml', 'cmdi_SV--_extern.xml']\n",
      "['ISW', 'BW', 'BR', 'FOLK', 'MV', 'HL', 'KN', 'DS', 'JK', 'OS', 'SW', 'AD', 'FR', 'PF', 'ZW', 'EK', 'IS', 'SR', 'DR', 'SA', 'BB', 'SV', 'ISZ']\n",
      "['ISW', 'BW', 'BR', 'FOLK', 'MV', 'HL', 'KN', 'DS', 'JK', 'OS', 'SW', 'AD', 'FR', 'PF', 'ZW', 'IS', 'SR', 'DR', 'SA', 'SV', 'ISZ']\n"
     ]
    }
   ],
   "source": [
    "resourcetree = cmdiresource.ResourceTreeCollection(corpus, event, speakers)"
   ]
  },
  {
   "cell_type": "markdown",
   "metadata": {},
   "source": [
    "ResourceTreeCollection inherits from networx.DiGraph and builds up a resource tree for all resources of the dgd2.\n",
    "Lets look at a random resource node."
   ]
  },
  {
   "cell_type": "code",
   "execution_count": 29,
   "metadata": {
    "collapsed": false
   },
   "outputs": [
    {
     "data": {
      "text/plain": [
       "{'corpusroot': False,\n",
       " 'etreeobject': <lxml.etree._ElementTree at 0x7f8afb596c20>,\n",
       " 'filename': 'cmdi_FOLK_S_00022_extern.xml',\n",
       " 'repopath': None,\n",
       " 'type': 'metadata'}"
      ]
     },
     "execution_count": 29,
     "metadata": {},
     "output_type": "execute_result"
    }
   ],
   "source": [
    "resourcetree.node.get('cmdi_FOLK_S_00022_extern') # look up the attributes of a resource node"
   ]
  },
  {
   "cell_type": "code",
   "execution_count": 24,
   "metadata": {
    "collapsed": false
   },
   "outputs": [
    {
     "data": {
      "text/plain": [
       "['FOLK_E_00001_SE_01',\n",
       " 'FOLK_E_00004_SE_01',\n",
       " 'FOLK_E_00005_SE_01',\n",
       " 'FOLK_E_00006_SE_01',\n",
       " 'FOLK_E_00007_SE_01',\n",
       " 'FOLK_E_00008_SE_01',\n",
       " 'FOLK_E_00009_SE_01']"
      ]
     },
     "execution_count": 24,
     "metadata": {},
     "output_type": "execute_result"
    }
   ],
   "source": [
    "resourcetree.find_eventsessions('cmdi_FOLK_S_00022_extern') # find all sessions a speaker takes part in "
   ]
  },
  {
   "cell_type": "code",
   "execution_count": 25,
   "metadata": {
    "collapsed": false
   },
   "outputs": [
    {
     "data": {
      "text/plain": [
       "['FOLK_E_00009',\n",
       " 'FOLK_E_00008',\n",
       " 'FOLK_E_00001',\n",
       " 'FOLK_E_00007',\n",
       " 'FOLK_E_00006',\n",
       " 'FOLK_E_00005',\n",
       " 'FOLK_E_00004']"
      ]
     },
     "execution_count": 25,
     "metadata": {},
     "output_type": "execute_result"
    }
   ],
   "source": [
    "resourcetree.find_events('cmdi_FOLK_S_00022_extern') # find all events a speaker takes part in"
   ]
  },
  {
   "cell_type": "code",
   "execution_count": 39,
   "metadata": {
    "collapsed": false
   },
   "outputs": [
    {
     "data": {
      "text/plain": [
       "['SW--_E_00006']"
      ]
     },
     "execution_count": 39,
     "metadata": {},
     "output_type": "execute_result"
    }
   ],
   "source": []
  },
  {
   "cell_type": "code",
   "execution_count": null,
   "metadata": {
    "collapsed": true
   },
   "outputs": [],
   "source": []
  }
 ],
 "metadata": {
  "kernelspec": {
   "display_name": "Python 2",
   "language": "python",
   "name": "python2"
  },
  "language_info": {
   "codemirror_mode": {
    "name": "ipython",
    "version": 2
   },
   "file_extension": ".py",
   "mimetype": "text/x-python",
   "name": "python",
   "nbconvert_exporter": "python",
   "pygments_lexer": "ipython2",
   "version": "2.7.6"
  }
 },
 "nbformat": 4,
 "nbformat_minor": 0
}
