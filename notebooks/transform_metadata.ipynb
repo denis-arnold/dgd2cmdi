{
 "cells": [
  {
   "cell_type": "markdown",
   "metadata": {},
   "source": [
    "# Working with BatchXSLT\n",
    "\n",
    "This is a tutorial for the Python-Wrapper batchxslt. This package is specified to transform language resources of the dgd metafile xml format to the clarin medata format by using xsl stylesheets and saxon. I wrote this wrapper to make corpus transformation less painful and more extensible. Though processing with lxml is easy, I decided keep transformation to the xlst processor and management of it to batchxslt so users not familiar with lxml can stick to xslt and rely on this tutorial for their needs.\n",
    "\n",
    "\n",
    "## 1. Transform metadata from dgd to cmdi format"
   ]
  },
  {
   "cell_type": "markdown",
   "metadata": {},
   "source": [
    "* define resource locators (corpus, event, speakers directories and saxon and xsl directories)\n",
    "* define an output directory "
   ]
  },
  {
   "cell_type": "code",
   "execution_count": 1,
   "metadata": {
    "collapsed": true
   },
   "outputs": [],
   "source": [
    "# using absolute paths \n",
    "corpus_dir = \"/home/kuhn/Data/IDS/svn_rev1233/dgd2_data/metadata/corpora/extern\"\n",
    "event_dir = \"/home/kuhn/Data/IDS/svn_rev1233/dgd2_data/metadata/events/extern\"\n",
    "speakers_dir = \"/home/kuhn/Data/IDS/svn_rev1233/dgd2_data/metadata/speakers/extern\"\n",
    "xsl_dir = \"/home/kuhn/Data/IDS/svn/dgd2_data/dgd2cmdi/xslt/\"\n",
    "corpus_xsl = xsl_dir + \"dgdCorpus2cmdi.xsl\"\n",
    "event_xsl = xsl_dir + \"dgdEvent2cmdi.xsl\"\n",
    "speaker_xsl = xsl_dir + \"dgdSpeaker2cmdi.xsl\"\n",
    "saxon_jar = \"/home/kuhn/Data/IDS/svn/dgd2_data/dgd2cmdi/batchxslt/saxon/saxon9he.jar\"\n",
    "out_corp = \"/tmp/cmdi2/corpus\"\n",
    "out_event = \"/tmp/cmdi2/events\"\n",
    "out_speaker = \"/tmp/cmdi2/speakers\""
   ]
  },
  {
   "cell_type": "code",
   "execution_count": 2,
   "metadata": {
    "collapsed": true
   },
   "outputs": [],
   "source": [
    "# import the xsl wrapper\n",
    "from batchxslt import processor"
   ]
  },
  {
   "cell_type": "code",
   "execution_count": 3,
   "metadata": {
    "collapsed": true
   },
   "outputs": [],
   "source": [
    "xsl_processor = processor.XSLBatchProcessor(saxon_jar)"
   ]
  },
  {
   "cell_type": "code",
   "execution_count": 4,
   "metadata": {
    "collapsed": true
   },
   "outputs": [],
   "source": [
    "# show me the api doc of the start method\n",
    "xsl_processor.start?"
   ]
  },
  {
   "cell_type": "code",
   "execution_count": 4,
   "metadata": {
    "collapsed": false
   },
   "outputs": [
    {
     "name": "stdout",
     "output_type": "stream",
     "text": [
      "stylesheet: /home/kuhn/Data/IDS/svn/dgd2_data/dgd2cmdi/xslt/dgdCorpus2cmdi.xsl\n",
      "outputdir not readable: /tmp/cmdi2/corpus\n",
      "xmldata: /home/kuhn/Data/IDS/svn_rev1233/dgd2_data/metadata/corpora/extern\n",
      "CPU times: user 0 ns, sys: 19.7 ms, total: 19.7 ms\n",
      "Wall time: 15.5 s\n"
     ]
    }
   ],
   "source": [
    "%time xsl_processor.start(corpus_xsl, corpus_dir, \"cmdi_\", out_corp)"
   ]
  },
  {
   "cell_type": "code",
   "execution_count": 5,
   "metadata": {
    "collapsed": false
   },
   "outputs": [
    {
     "name": "stdout",
     "output_type": "stream",
     "text": [
      "stylesheet: /home/kuhn/Data/IDS/svn/dgd2_data/dgd2cmdi/xslt/dgdEvent2cmdi.xsl\n",
      "outputdir not readable: /tmp/cmdi2/events\n",
      "xmldata: /home/kuhn/Data/IDS/svn_rev1233/dgd2_data/metadata/events/extern\n",
      "cannot create directory /tmp/cmdi2/events/SR\n",
      "Maybe it already exists...\n",
      "CPU times: user 516 ms, sys: 5.15 s, total: 5.67 s\n",
      "Wall time: 2h 29min 58s\n"
     ]
    }
   ],
   "source": [
    "%time xsl_processor.start(event_xsl, event_dir, \"cmdi_\", out_event)"
   ]
  },
  {
   "cell_type": "code",
   "execution_count": 6,
   "metadata": {
    "collapsed": false
   },
   "outputs": [
    {
     "name": "stdout",
     "output_type": "stream",
     "text": [
      "stylesheet: /home/kuhn/Data/IDS/svn/dgd2_data/dgd2cmdi/xslt/dgdSpeaker2cmdi.xsl\n",
      "outputdir not readable: /tmp/cmdi2/speakers\n",
      "xmldata: /home/kuhn/Data/IDS/svn_rev1233/dgd2_data/metadata/speakers/extern\n",
      "cannot create directory /tmp/cmdi2/speakers/SR\n",
      "Maybe it already exists...\n",
      "CPU times: user 607 ms, sys: 6.13 s, total: 6.74 s\n",
      "Wall time: 2h 16min 53s\n"
     ]
    }
   ],
   "source": [
    "%time xsl_processor.start(speaker_xsl, speakers_dir, \"cmdi_\", out_speaker)"
   ]
  },
  {
   "cell_type": "markdown",
   "metadata": {},
   "source": [
    "## 2. Defining Resource Proxies"
   ]
  },
  {
   "cell_type": "markdown",
   "metadata": {},
   "source": [
    "Once the original metadata files have been transformed to cmdi, we can go on to build up a resource tree structure of it. For this purpose, we can use the module **cmdiresource**.  "
   ]
  },
  {
   "cell_type": "code",
   "execution_count": 3,
   "metadata": {
    "collapsed": true
   },
   "outputs": [],
   "source": [
    "from batchxslt import cmdiresource\n",
    "import os\n",
    "import logging"
   ]
  },
  {
   "cell_type": "markdown",
   "metadata": {},
   "source": [
    "We define the paths to our recently transformed data"
   ]
  },
  {
   "cell_type": "code",
   "execution_count": 4,
   "metadata": {
    "collapsed": false
   },
   "outputs": [],
   "source": [
    "corpus = \"/tmp/cmdi2/corpus/\"\n",
    "event = \"/tmp/cmdi2/events/\"\n",
    "speakers = \"/tmp/cmdi2/speakers/\"\n",
    "transcripts = \"/home/kuhn/Data/IDS/svn_rev1233/dgd2_data/transcripts/\"\n",
    "\n",
    "cmdi_final = '/home/kuhn/Data/IDS/cmdi2/'"
   ]
  },
  {
   "cell_type": "markdown",
   "metadata": {},
   "source": [
    "Now define a ResourceTreeCollection instance."
   ]
  },
  {
   "cell_type": "code",
   "execution_count": 5,
   "metadata": {
    "collapsed": false
   },
   "outputs": [],
   "source": [
    "resourcetree = cmdiresource.ResourceTreeCollection(corpus, event, speakers, transcripts)"
   ]
  },
  {
   "cell_type": "code",
   "execution_count": 4,
   "metadata": {
    "collapsed": false,
    "scrolled": true
   },
   "outputs": [],
   "source": [
    "counter = 0\n",
    "for node in resourcetree.nodes_iter():\n",
    "    corpuslabel = node.split('_')[0].rstrip('-')\n",
    "    resourcetree.node.get(node).update({'id': corpuslabel + '_' + str(counter)})\n",
    "    counter += 1"
   ]
  },
  {
   "cell_type": "markdown",
   "metadata": {},
   "source": [
    "ResourceTreeCollection inherits from networx.DiGraph and builds up a resource tree for all resources of the dgd2.\n",
    "Lets look at a random resource node."
   ]
  },
  {
   "cell_type": "code",
   "execution_count": 6,
   "metadata": {
    "collapsed": false
   },
   "outputs": [
    {
     "ename": "AttributeError",
     "evalue": "'NoneType' object has no attribute 'getroot'",
     "output_type": "error",
     "traceback": [
      "\u001b[1;31m---------------------------------------------------------------------------\u001b[0m",
      "\u001b[1;31mAttributeError\u001b[0m                            Traceback (most recent call last)",
      "\u001b[1;32m<ipython-input-6-a5e3dc572065>\u001b[0m in \u001b[0;36m<module>\u001b[1;34m()\u001b[0m\n\u001b[1;32m----> 1\u001b[1;33m \u001b[0mresourcetree\u001b[0m\u001b[1;33m.\u001b[0m\u001b[0mbuild_resourceproxy\u001b[0m\u001b[1;33m(\u001b[0m\u001b[1;33m)\u001b[0m\u001b[1;33m\u001b[0m\u001b[0m\n\u001b[0m",
      "\u001b[1;32m/usr/local/lib/python2.7/dist-packages/batchxslt-0.1-py2.7.egg/batchxslt/cmdiresource.pyc\u001b[0m in \u001b[0;36mbuild_resourceproxy\u001b[1;34m(self)\u001b[0m\n\u001b[0;32m    475\u001b[0m             \u001b[1;32mif\u001b[0m \u001b[0mself\u001b[0m\u001b[1;33m.\u001b[0m\u001b[0mnode\u001b[0m\u001b[1;33m.\u001b[0m\u001b[0mget\u001b[0m\u001b[1;33m(\u001b[0m\u001b[0mresource\u001b[0m\u001b[1;33m)\u001b[0m\u001b[1;33m.\u001b[0m\u001b[0mget\u001b[0m\u001b[1;33m(\u001b[0m\u001b[1;34m\"etreeobject\"\u001b[0m\u001b[1;33m)\u001b[0m\u001b[0;31m \u001b[0m\u001b[0;31m\\\u001b[0m\u001b[1;33m\u001b[0m\u001b[0m\n\u001b[0;32m    476\u001b[0m                     \u001b[1;32mis\u001b[0m \u001b[1;32mnot\u001b[0m \u001b[0mFalse\u001b[0m \u001b[1;32mand\u001b[0m \u001b[0mresource\u001b[0m \u001b[1;33m!=\u001b[0m \u001b[1;34m'AGD_root'\u001b[0m\u001b[1;33m:\u001b[0m\u001b[1;33m\u001b[0m\u001b[0m\n\u001b[1;32m--> 477\u001b[1;33m                 \u001b[0mself\u001b[0m\u001b[1;33m.\u001b[0m\u001b[0mdefine_resourceproxy\u001b[0m\u001b[1;33m(\u001b[0m\u001b[0mresource\u001b[0m\u001b[1;33m)\u001b[0m\u001b[1;33m\u001b[0m\u001b[0m\n\u001b[0m\u001b[0;32m    478\u001b[0m \u001b[1;33m\u001b[0m\u001b[0m\n\u001b[0;32m    479\u001b[0m     \u001b[1;32mdef\u001b[0m \u001b[0mdefine_parts\u001b[0m\u001b[1;33m(\u001b[0m\u001b[0mself\u001b[0m\u001b[1;33m,\u001b[0m \u001b[0mresource\u001b[0m\u001b[1;33m)\u001b[0m\u001b[1;33m:\u001b[0m\u001b[1;33m\u001b[0m\u001b[0m\n",
      "\u001b[1;32m/usr/local/lib/python2.7/dist-packages/batchxslt-0.1-py2.7.egg/batchxslt/cmdiresource.pyc\u001b[0m in \u001b[0;36mdefine_resourceproxy\u001b[1;34m(self, metafilenode)\u001b[0m\n\u001b[0;32m    383\u001b[0m         \u001b[0mmimetypes\u001b[0m\u001b[1;33m.\u001b[0m\u001b[0madd_type\u001b[0m\u001b[1;33m(\u001b[0m\u001b[1;34m'application/x-cmdi+xml'\u001b[0m\u001b[1;33m,\u001b[0m \u001b[1;34m'.cmdi'\u001b[0m\u001b[1;33m)\u001b[0m\u001b[1;33m\u001b[0m\u001b[0m\n\u001b[0;32m    384\u001b[0m         \u001b[0mcmdi_etrobj\u001b[0m \u001b[1;33m=\u001b[0m \u001b[0mself\u001b[0m\u001b[1;33m.\u001b[0m\u001b[0mnode\u001b[0m\u001b[1;33m.\u001b[0m\u001b[0mget\u001b[0m\u001b[1;33m(\u001b[0m\u001b[0mmetafilenode\u001b[0m\u001b[1;33m)\u001b[0m\u001b[1;33m.\u001b[0m\u001b[0mget\u001b[0m\u001b[1;33m(\u001b[0m\u001b[1;34m\"etreeobject\"\u001b[0m\u001b[1;33m)\u001b[0m\u001b[1;33m\u001b[0m\u001b[0m\n\u001b[1;32m--> 385\u001b[1;33m         \u001b[0mcmdiroot\u001b[0m \u001b[1;33m=\u001b[0m \u001b[0mcmdi_etrobj\u001b[0m\u001b[1;33m.\u001b[0m\u001b[0mgetroot\u001b[0m\u001b[1;33m(\u001b[0m\u001b[1;33m)\u001b[0m\u001b[1;33m\u001b[0m\u001b[0m\n\u001b[0m\u001b[0;32m    386\u001b[0m         \u001b[1;32mtry\u001b[0m\u001b[1;33m:\u001b[0m\u001b[1;33m\u001b[0m\u001b[0m\n\u001b[0;32m    387\u001b[0m             \u001b[0mresourceproxies\u001b[0m \u001b[1;33m=\u001b[0m \u001b[0mcmdiroot\u001b[0m\u001b[1;33m.\u001b[0m\u001b[0mfind\u001b[0m\u001b[1;33m(\u001b[0m\u001b[1;34m\"Resources\"\u001b[0m\u001b[1;33m)\u001b[0m\u001b[1;33m.\u001b[0m\u001b[0mfind\u001b[0m\u001b[1;33m(\u001b[0m\u001b[1;34m\"ResourceProxyList\"\u001b[0m\u001b[1;33m)\u001b[0m\u001b[1;33m\u001b[0m\u001b[0m\n",
      "\u001b[1;31mAttributeError\u001b[0m: 'NoneType' object has no attribute 'getroot'"
     ]
    }
   ],
   "source": [
    "resourcetree.build_resourceproxy()"
   ]
  },
  {
   "cell_type": "code",
   "execution_count": 20,
   "metadata": {
    "collapsed": false
   },
   "outputs": [
    {
     "data": {
      "text/plain": [
       "{'corpusroot': False,\n",
       " 'etreeobject': False,\n",
       " 'filename': '0',\n",
       " 'id': '0_5298',\n",
       " 'repopath': None,\n",
       " 'type': 'audio'}"
      ]
     },
     "execution_count": 20,
     "metadata": {},
     "output_type": "execute_result"
    }
   ],
   "source": [
    "resourcetree.node.get()"
   ]
  },
  {
   "cell_type": "code",
   "execution_count": 5,
   "metadata": {
    "collapsed": false
   },
   "outputs": [],
   "source": [
    "for nodename in resourcetree.nodes_iter():\n",
    "    if resourcetree.node.get(nodename).get('type') == 'event':\n",
    "        resourcetree.define_parts(nodename)\n",
    "    elif resourcetree.node.get(nodename).get('type') == 'corpus':\n",
    "        resourcetree.define_parts(nodename)"
   ]
  },
  {
   "cell_type": "code",
   "execution_count": 6,
   "metadata": {
    "collapsed": false
   },
   "outputs": [],
   "source": [
    "for nodename in resourcetree.nodes_iter():\n",
    "    if resourcetree.node.get(nodename).get('type') == 'speaker':\n",
    "        resourcetree.speaker2event(nodename)"
   ]
  },
  {
   "cell_type": "code",
   "execution_count": null,
   "metadata": {
    "collapsed": false
   },
   "outputs": [],
   "source": [
    "for nodename in resourcetree.nodes_iter():\n",
    "\n",
    "\n",
    "    if resourcetree.node.get(nodename).get('type') == 'event':\n",
    "\n",
    "        cmdiheader.define_header(nodename, resourcetree)\n",
    "        corpus = nodename.split('_')[0].rstrip('-')\n",
    "        try:\n",
    "            os.mkdir(os.path.abspath(cmdi_final + '/' + corpus))\n",
    "        except:\n",
    "            logging.error('cannot create directory: ' + corpus)\n",
    "        resourcetree.write_cmdi(nodename, os.path.join(cmdi_final, corpus + '/' + nodename + '.cmdi'))\n",
    "        \n",
    "        \n",
    "    elif resourcetree.node.get(nodename).get('type') == 'corpus':\n",
    "\n",
    "        cmdiheader.define_header(nodename, resourcetree)\n",
    "        corpus = nodename.split('_')[0].rstrip('-')\n",
    "        try:\n",
    "            os.mkdir(os.path.abspath(cmdi_final + '/' + corpus))\n",
    "        except:\n",
    "            logging.error('cannot create directory: ' + corpus)\n",
    "        resourcetree.write_cmdi(nodename, os.path.join(cmdi_final, corpus + '/' + nodename + '.cmdi'))"
   ]
  },
  {
   "cell_type": "code",
   "execution_count": 8,
   "metadata": {
    "collapsed": false
   },
   "outputs": [
    {
     "data": {
      "text/plain": [
       "[('FOLK', 'FOLK_E_00001')]"
      ]
     },
     "execution_count": 8,
     "metadata": {},
     "output_type": "execute_result"
    }
   ],
   "source": []
  },
  {
   "cell_type": "code",
   "execution_count": 9,
   "metadata": {
    "collapsed": false
   },
   "outputs": [
    {
     "data": {
      "text/plain": [
       "[('FOLK_E_00001', 'FOLK_E_00001_SE_01_T_01_DF_01'),\n",
       " ('FOLK_E_00001', 'FOLK_E_00001_SE_01_T_02_DF_01'),\n",
       " ('FOLK_E_00001', 'FOLK_S_00001'),\n",
       " ('FOLK_E_00001', 'FOLK_S_00003'),\n",
       " ('FOLK_E_00001', 'FOLK_S_00002'),\n",
       " ('FOLK_E_00001', 'FOLK_S_00005'),\n",
       " ('FOLK_E_00001', 'FOLK_S_00004'),\n",
       " ('FOLK_E_00001', 'FOLK_S_00007'),\n",
       " ('FOLK_E_00001', 'FOLK_S_00006'),\n",
       " ('FOLK_E_00001', 'FOLK_S_00023'),\n",
       " ('FOLK_E_00001', 'FOLK_S_00008'),\n",
       " ('FOLK_E_00001', 'FOLK_S_00021'),\n",
       " ('FOLK_E_00001', 'FOLK_S_00020'),\n",
       " ('FOLK_E_00001', 'FOLK_S_00026'),\n",
       " ('FOLK_E_00001', 'FOLK_S_00024'),\n",
       " ('FOLK_E_00001', 'FOLK_S_00009'),\n",
       " ('FOLK_E_00001', 'FOLK_S_00022'),\n",
       " ('FOLK_E_00001', 'FOLK_S_00016'),\n",
       " ('FOLK_E_00001', 'FOLK_S_00017'),\n",
       " ('FOLK_E_00001', 'FOLK_S_00014'),\n",
       " ('FOLK_E_00001', 'FOLK_S_00015'),\n",
       " ('FOLK_E_00001', 'FOLK_S_00012'),\n",
       " ('FOLK_E_00001', 'FOLK_S_00013'),\n",
       " ('FOLK_E_00001', 'FOLK_S_00010'),\n",
       " ('FOLK_E_00001', 'FOLK_S_00011'),\n",
       " ('FOLK_E_00001', 'FOLK_S_00018'),\n",
       " ('FOLK_E_00001', 'FOLK_S_00019')]"
      ]
     },
     "execution_count": 9,
     "metadata": {},
     "output_type": "execute_result"
    }
   ],
   "source": []
  },
  {
   "cell_type": "code",
   "execution_count": 5,
   "metadata": {
    "collapsed": false
   },
   "outputs": [
    {
     "data": {
      "text/plain": [
       "['FOLK_S_00046',\n",
       " 'FOLK_S_00047',\n",
       " 'FOLK_S_00048',\n",
       " 'FOLK_S_00050',\n",
       " 'FOLK_S_00051']"
      ]
     },
     "execution_count": 5,
     "metadata": {},
     "output_type": "execute_result"
    }
   ],
   "source": [
    "resourcetree.find_speakers('FOLK_E_00022')\n",
    "\n"
   ]
  },
  {
   "cell_type": "code",
   "execution_count": 18,
   "metadata": {
    "collapsed": true
   },
   "outputs": [],
   "source": [
    "# now build up the resource proxy tree and put it into the etree "
   ]
  },
  {
   "cell_type": "code",
   "execution_count": 21,
   "metadata": {
    "collapsed": false
   },
   "outputs": [],
   "source": [
    "resourcetree.build_resourceproxy()"
   ]
  },
  {
   "cell_type": "code",
   "execution_count": 22,
   "metadata": {
    "collapsed": false
   },
   "outputs": [
    {
     "ename": "KeyError",
     "evalue": "9",
     "output_type": "error",
     "traceback": [
      "\u001b[1;31m---------------------------------------------------------------------------\u001b[0m",
      "\u001b[1;31mKeyError\u001b[0m                                  Traceback (most recent call last)",
      "\u001b[1;32m<ipython-input-22-72d5a43a8d4e>\u001b[0m in \u001b[0;36m<module>\u001b[1;34m()\u001b[0m\n\u001b[1;32m----> 1\u001b[1;33m \u001b[0mresourcetree\u001b[0m\u001b[1;33m[\u001b[0m\u001b[1;36m9\u001b[0m\u001b[1;33m]\u001b[0m\u001b[1;33m\u001b[0m\u001b[0m\n\u001b[0m",
      "\u001b[1;32m/usr/local/lib/python2.7/dist-packages/networkx-1.9.1-py2.7.egg/networkx/classes/graph.pyc\u001b[0m in \u001b[0;36m__getitem__\u001b[1;34m(self, n)\u001b[0m\n\u001b[0;32m    317\u001b[0m         \u001b[1;33m{\u001b[0m\u001b[1;36m1\u001b[0m\u001b[1;33m:\u001b[0m \u001b[1;33m{\u001b[0m\u001b[1;33m}\u001b[0m\u001b[1;33m}\u001b[0m\u001b[1;33m\u001b[0m\u001b[0m\n\u001b[0;32m    318\u001b[0m         \"\"\"\n\u001b[1;32m--> 319\u001b[1;33m         \u001b[1;32mreturn\u001b[0m \u001b[0mself\u001b[0m\u001b[1;33m.\u001b[0m\u001b[0madj\u001b[0m\u001b[1;33m[\u001b[0m\u001b[0mn\u001b[0m\u001b[1;33m]\u001b[0m\u001b[1;33m\u001b[0m\u001b[0m\n\u001b[0m\u001b[0;32m    320\u001b[0m \u001b[1;33m\u001b[0m\u001b[0m\n\u001b[0;32m    321\u001b[0m \u001b[1;33m\u001b[0m\u001b[0m\n",
      "\u001b[1;31mKeyError\u001b[0m: 9"
     ]
    }
   ],
   "source": [
    "resourcetree[9]"
   ]
  },
  {
   "cell_type": "code",
   "execution_count": 24,
   "metadata": {
    "collapsed": false
   },
   "outputs": [],
   "source": [
    "resource = [i for i in resourcetree.node.iteritems()]"
   ]
  },
  {
   "cell_type": "code",
   "execution_count": 25,
   "metadata": {
    "collapsed": false
   },
   "outputs": [
    {
     "data": {
      "text/plain": [
       "<lxml.etree._ElementTree at 0x7f451f710b90>"
      ]
     },
     "execution_count": 25,
     "metadata": {},
     "output_type": "execute_result"
    }
   ],
   "source": [
    "resource[2][1].get(\"etreeobject\")"
   ]
  },
  {
   "cell_type": "code",
   "execution_count": 24,
   "metadata": {
    "collapsed": true
   },
   "outputs": [],
   "source": [
    "x = [i for i in resourcetree.nodes_iter()]"
   ]
  },
  {
   "cell_type": "code",
   "execution_count": 25,
   "metadata": {
    "collapsed": false
   },
   "outputs": [
    {
     "data": {
      "text/plain": [
       "'ZW--_S_02073'"
      ]
     },
     "execution_count": 25,
     "metadata": {},
     "output_type": "execute_result"
    }
   ],
   "source": [
    "x[0]"
   ]
  },
  {
   "cell_type": "code",
   "execution_count": 6,
   "metadata": {
    "collapsed": false
   },
   "outputs": [
    {
     "data": {
      "text/plain": [
       "[('FOLK_E_00001', 'FOLK_E_00001_SE_01_T_01_DF_01'),\n",
       " ('FOLK_E_00001', 'FOLK_E_00001_SE_01_T_02_DF_01'),\n",
       " ('FOLK_E_00001', 'FOLK_S_00001'),\n",
       " ('FOLK_E_00001', 'FOLK_S_00003'),\n",
       " ('FOLK_E_00001', 'FOLK_S_00002'),\n",
       " ('FOLK_E_00001', 'FOLK_S_00005'),\n",
       " ('FOLK_E_00001', 'FOLK_S_00004'),\n",
       " ('FOLK_E_00001', 'FOLK_S_00007'),\n",
       " ('FOLK_E_00001', 'FOLK_S_00006'),\n",
       " ('FOLK_E_00001', 'FOLK_S_00009'),\n",
       " ('FOLK_E_00001', 'FOLK_S_00008'),\n",
       " ('FOLK_E_00001', 'FOLK_S_00021'),\n",
       " ('FOLK_E_00001', 'FOLK_S_00020'),\n",
       " ('FOLK_E_00001', 'FOLK_E_00001_SE_01_A_01_DF_01'),\n",
       " ('FOLK_E_00001', 'FOLK_S_00024'),\n",
       " ('FOLK_E_00001', 'FOLK_S_00023'),\n",
       " ('FOLK_E_00001', 'FOLK_S_00022'),\n",
       " ('FOLK_E_00001', 'FOLK_S_00026'),\n",
       " ('FOLK_E_00001', 'FOLK_S_00016'),\n",
       " ('FOLK_E_00001', 'FOLK_S_00017'),\n",
       " ('FOLK_E_00001', 'FOLK_S_00014'),\n",
       " ('FOLK_E_00001', 'FOLK_S_00015'),\n",
       " ('FOLK_E_00001', 'FOLK_S_00012'),\n",
       " ('FOLK_E_00001', 'FOLK_S_00013'),\n",
       " ('FOLK_E_00001', 'FOLK_S_00010'),\n",
       " ('FOLK_E_00001', 'FOLK_S_00011'),\n",
       " ('FOLK_E_00001', 'FOLK_S_00018'),\n",
       " ('FOLK_E_00001', 'FOLK_S_00019')]"
      ]
     },
     "execution_count": 6,
     "metadata": {},
     "output_type": "execute_result"
    }
   ],
   "source": [
    "resourcetree.out_edges('FOLK_E_00001')"
   ]
  },
  {
   "cell_type": "code",
   "execution_count": 28,
   "metadata": {
    "collapsed": false
   },
   "outputs": [
    {
     "data": {
      "text/plain": [
       "[('FOLK_E_00009', 'FOLK_S_00001'),\n",
       " ('FOLK_E_00008', 'FOLK_S_00001'),\n",
       " ('FOLK_E_00005', 'FOLK_S_00001'),\n",
       " ('FOLK_E_00001', 'FOLK_S_00001'),\n",
       " ('FOLK_E_00007', 'FOLK_S_00001'),\n",
       " ('FOLK_E_00006', 'FOLK_S_00001'),\n",
       " ('FOLK', 'FOLK_S_00001'),\n",
       " ('FOLK_E_00004', 'FOLK_S_00001')]"
      ]
     },
     "execution_count": 28,
     "metadata": {},
     "output_type": "execute_result"
    }
   ],
   "source": [
    "resourcetree.in_edges('FOLK_S_00001')"
   ]
  },
  {
   "cell_type": "code",
   "execution_count": 31,
   "metadata": {
    "collapsed": false
   },
   "outputs": [],
   "source": [
    "in_edges = [i[0] for i in resourcetree.in_edges('FOLK_S_00001')]"
   ]
  },
  {
   "cell_type": "code",
   "execution_count": 32,
   "metadata": {
    "collapsed": false
   },
   "outputs": [
    {
     "data": {
      "text/plain": [
       "['FOLK_E_00009',\n",
       " 'FOLK_E_00008',\n",
       " 'FOLK_E_00005',\n",
       " 'FOLK_E_00001',\n",
       " 'FOLK_E_00007',\n",
       " 'FOLK_E_00006',\n",
       " 'FOLK',\n",
       " 'FOLK_E_00004']"
      ]
     },
     "execution_count": 32,
     "metadata": {},
     "output_type": "execute_result"
    }
   ],
   "source": [
    "in_edges"
   ]
  },
  {
   "cell_type": "code",
   "execution_count": 33,
   "metadata": {
    "collapsed": true
   },
   "outputs": [],
   "source": [
    "out_edges = [i[1] for i in resourcetree.out_edges('FOLK_S_00001')]"
   ]
  },
  {
   "cell_type": "code",
   "execution_count": 35,
   "metadata": {
    "collapsed": false
   },
   "outputs": [
    {
     "data": {
      "text/plain": [
       "[]"
      ]
     },
     "execution_count": 35,
     "metadata": {},
     "output_type": "execute_result"
    }
   ],
   "source": [
    "out_edges"
   ]
  },
  {
   "cell_type": "code",
   "execution_count": 36,
   "metadata": {
    "collapsed": false
   },
   "outputs": [
    {
     "data": {
      "text/plain": [
       "['FOLK_E_00009',\n",
       " 'FOLK_E_00008',\n",
       " 'FOLK_E_00005',\n",
       " 'FOLK_E_00001',\n",
       " 'FOLK_E_00007',\n",
       " 'FOLK_E_00006',\n",
       " 'FOLK',\n",
       " 'FOLK_E_00004']"
      ]
     },
     "execution_count": 36,
     "metadata": {},
     "output_type": "execute_result"
    }
   ],
   "source": [
    "in_edges"
   ]
  },
  {
   "cell_type": "code",
   "execution_count": 37,
   "metadata": {
    "collapsed": true
   },
   "outputs": [],
   "source": [
    "in_edges.extend(out_edges)"
   ]
  },
  {
   "cell_type": "code",
   "execution_count": 38,
   "metadata": {
    "collapsed": false
   },
   "outputs": [
    {
     "data": {
      "text/plain": [
       "['FOLK_E_00009',\n",
       " 'FOLK_E_00008',\n",
       " 'FOLK_E_00005',\n",
       " 'FOLK_E_00001',\n",
       " 'FOLK_E_00007',\n",
       " 'FOLK_E_00006',\n",
       " 'FOLK',\n",
       " 'FOLK_E_00004']"
      ]
     },
     "execution_count": 38,
     "metadata": {},
     "output_type": "execute_result"
    }
   ],
   "source": [
    "in_edges"
   ]
  },
  {
   "cell_type": "code",
   "execution_count": 39,
   "metadata": {
    "collapsed": false
   },
   "outputs": [
    {
     "data": {
      "text/plain": [
       "{'FOLK',\n",
       " 'FOLK_E_00001',\n",
       " 'FOLK_E_00004',\n",
       " 'FOLK_E_00005',\n",
       " 'FOLK_E_00006',\n",
       " 'FOLK_E_00007',\n",
       " 'FOLK_E_00008',\n",
       " 'FOLK_E_00009'}"
      ]
     },
     "execution_count": 39,
     "metadata": {},
     "output_type": "execute_result"
    }
   ],
   "source": [
    "set(in_edges)"
   ]
  },
  {
   "cell_type": "code",
   "execution_count": 40,
   "metadata": {
    "collapsed": true
   },
   "outputs": [],
   "source": [
    "out_edges.extend(in_edges)"
   ]
  },
  {
   "cell_type": "code",
   "execution_count": 41,
   "metadata": {
    "collapsed": false
   },
   "outputs": [
    {
     "data": {
      "text/plain": [
       "['FOLK_E_00009',\n",
       " 'FOLK_E_00008',\n",
       " 'FOLK_E_00005',\n",
       " 'FOLK_E_00001',\n",
       " 'FOLK_E_00007',\n",
       " 'FOLK_E_00006',\n",
       " 'FOLK',\n",
       " 'FOLK_E_00004']"
      ]
     },
     "execution_count": 41,
     "metadata": {},
     "output_type": "execute_result"
    }
   ],
   "source": [
    "out_edges"
   ]
  },
  {
   "cell_type": "code",
   "execution_count": 45,
   "metadata": {
    "collapsed": false
   },
   "outputs": [],
   "source": [
    "resourcetree.nbunch_iter?"
   ]
  },
  {
   "cell_type": "code",
   "execution_count": 46,
   "metadata": {
    "collapsed": true
   },
   "outputs": [],
   "source": [
    "resourcetree.add_star?"
   ]
  },
  {
   "cell_type": "code",
   "execution_count": 48,
   "metadata": {
    "collapsed": false
   },
   "outputs": [],
   "source": [
    "resourcetree.adj?"
   ]
  },
  {
   "cell_type": "code",
   "execution_count": 5,
   "metadata": {
    "collapsed": true
   },
   "outputs": [],
   "source": [
    "tuples = list()\n",
    "for i in resourcetree.nodes_iter():\n",
    "        tuples.append(i)"
   ]
  },
  {
   "cell_type": "code",
   "execution_count": 6,
   "metadata": {
    "collapsed": false
   },
   "outputs": [
    {
     "data": {
      "text/plain": [
       "20777"
      ]
     },
     "execution_count": 6,
     "metadata": {},
     "output_type": "execute_result"
    }
   ],
   "source": [
    "len(tuples)"
   ]
  },
  {
   "cell_type": "code",
   "execution_count": 7,
   "metadata": {
    "collapsed": false
   },
   "outputs": [
    {
     "data": {
      "text/plain": [
       "'ZW--_S_02072'"
      ]
     },
     "execution_count": 7,
     "metadata": {},
     "output_type": "execute_result"
    }
   ],
   "source": [
    "tuples[1]"
   ]
  },
  {
   "cell_type": "code",
   "execution_count": 8,
   "metadata": {
    "collapsed": false
   },
   "outputs": [
    {
     "data": {
      "text/plain": [
       "'ZW--_S_02073'"
      ]
     },
     "execution_count": 8,
     "metadata": {},
     "output_type": "execute_result"
    }
   ],
   "source": [
    "tuples[0]"
   ]
  },
  {
   "cell_type": "code",
   "execution_count": 5,
   "metadata": {
    "collapsed": false,
    "scrolled": false
   },
   "outputs": [
    {
     "ename": "TypeError",
     "evalue": "Argument must be bytes or unicode, got 'NoneType'",
     "output_type": "error",
     "traceback": [
      "\u001b[1;31m---------------------------------------------------------------------------\u001b[0m",
      "\u001b[1;31mTypeError\u001b[0m                                 Traceback (most recent call last)",
      "\u001b[1;32m<ipython-input-5-a5e3dc572065>\u001b[0m in \u001b[0;36m<module>\u001b[1;34m()\u001b[0m\n\u001b[1;32m----> 1\u001b[1;33m \u001b[0mresourcetree\u001b[0m\u001b[1;33m.\u001b[0m\u001b[0mbuild_resourceproxy\u001b[0m\u001b[1;33m(\u001b[0m\u001b[1;33m)\u001b[0m\u001b[1;33m\u001b[0m\u001b[0m\n\u001b[0m",
      "\u001b[1;32m/usr/local/lib/python2.7/dist-packages/batchxslt-0.1-py2.7.egg/batchxslt/cmdiresource.pyc\u001b[0m in \u001b[0;36mbuild_resourceproxy\u001b[1;34m(self)\u001b[0m\n\u001b[0;32m    253\u001b[0m             \u001b[1;31m# pass the node name to define_resourceproxy\u001b[0m\u001b[1;33m\u001b[0m\u001b[1;33m\u001b[0m\u001b[0m\n\u001b[0;32m    254\u001b[0m             \u001b[1;32mif\u001b[0m \u001b[0mresource\u001b[0m \u001b[1;32mis\u001b[0m \u001b[1;32mnot\u001b[0m \u001b[0mNone\u001b[0m\u001b[1;33m:\u001b[0m\u001b[1;33m\u001b[0m\u001b[0m\n\u001b[1;32m--> 255\u001b[1;33m                 \u001b[0mself\u001b[0m\u001b[1;33m.\u001b[0m\u001b[0mdefine_resourceproxy\u001b[0m\u001b[1;33m(\u001b[0m\u001b[0mresource\u001b[0m\u001b[1;33m)\u001b[0m\u001b[1;33m\u001b[0m\u001b[0m\n\u001b[0m\u001b[0;32m    256\u001b[0m \u001b[1;33m\u001b[0m\u001b[0m\n\u001b[0;32m    257\u001b[0m     \u001b[1;32mdef\u001b[0m \u001b[0mget_cmdi\u001b[0m\u001b[1;33m(\u001b[0m\u001b[0mself\u001b[0m\u001b[1;33m,\u001b[0m \u001b[0mnodename\u001b[0m\u001b[1;33m)\u001b[0m\u001b[1;33m:\u001b[0m\u001b[1;33m\u001b[0m\u001b[0m\n",
      "\u001b[1;32m/usr/local/lib/python2.7/dist-packages/batchxslt-0.1-py2.7.egg/batchxslt/cmdiresource.pyc\u001b[0m in \u001b[0;36mdefine_resourceproxy\u001b[1;34m(self, metafilenode)\u001b[0m\n\u001b[0;32m    236\u001b[0m             \u001b[0mresourceproxy\u001b[0m \u001b[1;33m=\u001b[0m \u001b[0metree\u001b[0m\u001b[1;33m.\u001b[0m\u001b[0mElement\u001b[0m\u001b[1;33m(\u001b[0m\u001b[1;34m\"ResourceProxy\"\u001b[0m\u001b[1;33m)\u001b[0m\u001b[1;33m\u001b[0m\u001b[0m\n\u001b[0;32m    237\u001b[0m             \u001b[0mresourceproxy\u001b[0m\u001b[1;33m.\u001b[0m\u001b[0mtext\u001b[0m \u001b[1;33m=\u001b[0m \u001b[0mstr\u001b[0m\u001b[1;33m(\u001b[0m\u001b[0mnode\u001b[0m\u001b[1;33m)\u001b[0m\u001b[1;33m\u001b[0m\u001b[0m\n\u001b[1;32m--> 238\u001b[1;33m             \u001b[0mresourceproxy\u001b[0m\u001b[1;33m.\u001b[0m\u001b[0mset\u001b[0m\u001b[1;33m(\u001b[0m\u001b[1;34m\"href\"\u001b[0m\u001b[1;33m,\u001b[0m \u001b[0mnode_fname\u001b[0m\u001b[1;33m)\u001b[0m\u001b[1;33m\u001b[0m\u001b[0m\n\u001b[0m\u001b[0;32m    239\u001b[0m \u001b[1;33m\u001b[0m\u001b[0m\n\u001b[0;32m    240\u001b[0m             \u001b[1;31m# insert new resourceproxyelement in list\u001b[0m\u001b[1;33m\u001b[0m\u001b[1;33m\u001b[0m\u001b[0m\n",
      "\u001b[1;32mlxml.etree.pyx\u001b[0m in \u001b[0;36mlxml.etree._Element.set (src/lxml/lxml.etree.c:42955)\u001b[1;34m()\u001b[0m\n",
      "\u001b[1;32mapihelpers.pxi\u001b[0m in \u001b[0;36mlxml.etree._setAttributeValue (src/lxml/lxml.etree.c:19025)\u001b[1;34m()\u001b[0m\n",
      "\u001b[1;32mapihelpers.pxi\u001b[0m in \u001b[0;36mlxml.etree._utf8 (src/lxml/lxml.etree.c:26460)\u001b[1;34m()\u001b[0m\n",
      "\u001b[1;31mTypeError\u001b[0m: Argument must be bytes or unicode, got 'NoneType'"
     ]
    }
   ],
   "source": [
    "resourcetree.build_resourceproxy()"
   ]
  },
  {
   "cell_type": "code",
   "execution_count": 5,
   "metadata": {
    "collapsed": true
   },
   "outputs": [],
   "source": [
    "e = None"
   ]
  },
  {
   "cell_type": "code",
   "execution_count": 8,
   "metadata": {
    "collapsed": false
   },
   "outputs": [
    {
     "ename": "TypeError",
     "evalue": "'NoneType' object is not iterable",
     "output_type": "error",
     "traceback": [
      "\u001b[1;31m---------------------------------------------------------------------------\u001b[0m",
      "\u001b[1;31mTypeError\u001b[0m                                 Traceback (most recent call last)",
      "\u001b[1;32m<ipython-input-8-08514f7c13db>\u001b[0m in \u001b[0;36m<module>\u001b[1;34m()\u001b[0m\n\u001b[1;32m----> 1\u001b[1;33m \u001b[0mlist\u001b[0m\u001b[1;33m(\u001b[0m\u001b[0me\u001b[0m\u001b[1;33m)\u001b[0m\u001b[1;33m\u001b[0m\u001b[0m\n\u001b[0m",
      "\u001b[1;31mTypeError\u001b[0m: 'NoneType' object is not iterable"
     ]
    }
   ],
   "source": [
    "list(e)"
   ]
  },
  {
   "cell_type": "code",
   "execution_count": 4,
   "metadata": {
    "collapsed": true
   },
   "outputs": [],
   "source": [
    "e = []"
   ]
  },
  {
   "cell_type": "code",
   "execution_count": 5,
   "metadata": {
    "collapsed": false
   },
   "outputs": [
    {
     "data": {
      "text/plain": [
       "set()"
      ]
     },
     "execution_count": 5,
     "metadata": {},
     "output_type": "execute_result"
    }
   ],
   "source": [
    "set(e)"
   ]
  },
  {
   "cell_type": "code",
   "execution_count": 5,
   "metadata": {
    "collapsed": false
   },
   "outputs": [
    {
     "data": {
      "text/plain": [
       "<lxml.etree._ElementTree at 0x7f7427905a28>"
      ]
     },
     "execution_count": 5,
     "metadata": {},
     "output_type": "execute_result"
    }
   ],
   "source": [
    "resourcetree.node.get('FOLK_E_00009').get('etreeobject')"
   ]
  },
  {
   "cell_type": "code",
   "execution_count": 8,
   "metadata": {
    "collapsed": true
   },
   "outputs": [],
   "source": [
    "notcount = 0\n",
    "for node in resourcetree.nodes_iter():\n",
    "    if node is None:\n",
    "        notcount+=1"
   ]
  },
  {
   "cell_type": "code",
   "execution_count": 9,
   "metadata": {
    "collapsed": false
   },
   "outputs": [
    {
     "data": {
      "text/plain": [
       "0"
      ]
     },
     "execution_count": 9,
     "metadata": {},
     "output_type": "execute_result"
    }
   ],
   "source": [
    "notcount"
   ]
  },
  {
   "cell_type": "code",
   "execution_count": 4,
   "metadata": {
    "collapsed": false
   },
   "outputs": [
    {
     "ename": "TypeError",
     "evalue": "Argument must be bytes or unicode, got 'tuple'",
     "output_type": "error",
     "traceback": [
      "\u001b[1;31m---------------------------------------------------------------------------\u001b[0m",
      "\u001b[1;31mTypeError\u001b[0m                                 Traceback (most recent call last)",
      "\u001b[1;32m<ipython-input-4-360e30ad6d2d>\u001b[0m in \u001b[0;36m<module>\u001b[1;34m()\u001b[0m\n\u001b[1;32m----> 1\u001b[1;33m \u001b[0mresourcetree\u001b[0m\u001b[1;33m.\u001b[0m\u001b[0mdefine_resourceproxy\u001b[0m\u001b[1;33m(\u001b[0m\u001b[1;34m'FOLK_E_00009'\u001b[0m\u001b[1;33m)\u001b[0m\u001b[1;33m\u001b[0m\u001b[0m\n\u001b[0m",
      "\u001b[1;32m/usr/local/lib/python2.7/dist-packages/batchxslt-0.1-py2.7.egg/batchxslt/cmdiresource.pyc\u001b[0m in \u001b[0;36mdefine_resourceproxy\u001b[1;34m(self, metafilenode)\u001b[0m\n\u001b[0;32m    237\u001b[0m             \u001b[0mresourcetype\u001b[0m \u001b[1;33m=\u001b[0m \u001b[0metree\u001b[0m\u001b[1;33m.\u001b[0m\u001b[0mSubElement\u001b[0m\u001b[1;33m(\u001b[0m\u001b[0mresourceproxy\u001b[0m\u001b[1;33m,\u001b[0m \u001b[1;34m\"ResourceType\"\u001b[0m\u001b[1;33m)\u001b[0m\u001b[1;33m\u001b[0m\u001b[0m\n\u001b[0;32m    238\u001b[0m             \u001b[0mresourceproxy\u001b[0m\u001b[1;33m.\u001b[0m\u001b[0mset\u001b[0m\u001b[1;33m(\u001b[0m\u001b[1;34m\"id\"\u001b[0m\u001b[1;33m,\u001b[0m \u001b[0mnode\u001b[0m\u001b[1;33m)\u001b[0m\u001b[1;33m\u001b[0m\u001b[0m\n\u001b[1;32m--> 239\u001b[1;33m             \u001b[0mresourcetype\u001b[0m\u001b[1;33m.\u001b[0m\u001b[0mset\u001b[0m\u001b[1;33m(\u001b[0m\u001b[1;34m\"mimetype\"\u001b[0m\u001b[1;33m,\u001b[0m \u001b[0mmimetypes\u001b[0m\u001b[1;33m.\u001b[0m\u001b[0mguess_type\u001b[0m\u001b[1;33m(\u001b[0m\u001b[0mnode_fname\u001b[0m\u001b[1;33m)\u001b[0m\u001b[1;33m)\u001b[0m\u001b[1;33m\u001b[0m\u001b[0m\n\u001b[0m\u001b[0;32m    240\u001b[0m             \u001b[0mresourceref\u001b[0m\u001b[1;33m.\u001b[0m\u001b[0mtext\u001b[0m \u001b[1;33m=\u001b[0m \u001b[1;34m\"http://handle.net\"\u001b[0m\u001b[1;33m\u001b[0m\u001b[0m\n\u001b[0;32m    241\u001b[0m \u001b[1;33m\u001b[0m\u001b[0m\n",
      "\u001b[1;32mlxml.etree.pyx\u001b[0m in \u001b[0;36mlxml.etree._Element.set (src/lxml/lxml.etree.c:42955)\u001b[1;34m()\u001b[0m\n",
      "\u001b[1;32mapihelpers.pxi\u001b[0m in \u001b[0;36mlxml.etree._setAttributeValue (src/lxml/lxml.etree.c:19025)\u001b[1;34m()\u001b[0m\n",
      "\u001b[1;32mapihelpers.pxi\u001b[0m in \u001b[0;36mlxml.etree._utf8 (src/lxml/lxml.etree.c:26460)\u001b[1;34m()\u001b[0m\n",
      "\u001b[1;31mTypeError\u001b[0m: Argument must be bytes or unicode, got 'tuple'"
     ]
    }
   ],
   "source": [
    "resourcetree.define_resourceproxy('FOLK_E_00009')"
   ]
  },
  {
   "cell_type": "code",
   "execution_count": 26,
   "metadata": {
    "collapsed": true
   },
   "outputs": [],
   "source": [
    "speakers = resourcetree.find_speakers('FOLK_E_00009')\n",
    "events = resourcetree.find_events('FOLK_E_00009')"
   ]
  },
  {
   "cell_type": "code",
   "execution_count": 27,
   "metadata": {
    "collapsed": false
   },
   "outputs": [
    {
     "data": {
      "text/plain": [
       "['FOLK_S_00001',\n",
       " 'FOLK_S_00003',\n",
       " 'FOLK_S_00004',\n",
       " 'FOLK_S_00005',\n",
       " 'FOLK_S_00006',\n",
       " 'FOLK_S_00007',\n",
       " 'FOLK_S_00008',\n",
       " 'FOLK_S_00009',\n",
       " 'FOLK_S_00010',\n",
       " 'FOLK_S_00011',\n",
       " 'FOLK_S_00012',\n",
       " 'FOLK_S_00013',\n",
       " 'FOLK_S_00014',\n",
       " 'FOLK_S_00015',\n",
       " 'FOLK_S_00016',\n",
       " 'FOLK_S_00017',\n",
       " 'FOLK_S_00018',\n",
       " 'FOLK_S_00019',\n",
       " 'FOLK_S_00020',\n",
       " 'FOLK_S_00021',\n",
       " 'FOLK_S_00022',\n",
       " 'FOLK_S_00023',\n",
       " 'FOLK_S_00024',\n",
       " 'FOLK_S_00026']"
      ]
     },
     "execution_count": 27,
     "metadata": {},
     "output_type": "execute_result"
    }
   ],
   "source": [
    "speakers + events"
   ]
  },
  {
   "cell_type": "code",
   "execution_count": 12,
   "metadata": {
    "collapsed": false
   },
   "outputs": [
    {
     "data": {
      "text/plain": [
       "[]"
      ]
     },
     "execution_count": 12,
     "metadata": {},
     "output_type": "execute_result"
    }
   ],
   "source": [
    "events"
   ]
  },
  {
   "cell_type": "code",
   "execution_count": 18,
   "metadata": {
    "collapsed": false
   },
   "outputs": [],
   "source": [
    "joint = list.extend?"
   ]
  },
  {
   "cell_type": "code",
   "execution_count": 37,
   "metadata": {
    "collapsed": false
   },
   "outputs": [
    {
     "ename": "TypeError",
     "evalue": "cannot concatenate 'str' and 'list' objects",
     "output_type": "error",
     "traceback": [
      "\u001b[1;31m---------------------------------------------------------------------------\u001b[0m",
      "\u001b[1;31mTypeError\u001b[0m                                 Traceback (most recent call last)",
      "\u001b[1;32m<ipython-input-37-c11388896aee>\u001b[0m in \u001b[0;36m<module>\u001b[1;34m()\u001b[0m\n\u001b[1;32m----> 1\u001b[1;33m \u001b[0mjoint\u001b[0m \u001b[1;33m=\u001b[0m \u001b[0mspeakers\u001b[0m \u001b[1;33m+\u001b[0m \u001b[0mevents\u001b[0m\u001b[1;33m\u001b[0m\u001b[0m\n\u001b[0m",
      "\u001b[1;31mTypeError\u001b[0m: cannot concatenate 'str' and 'list' objects"
     ]
    }
   ],
   "source": [
    "joint = speakers + events"
   ]
  },
  {
   "cell_type": "code",
   "execution_count": 21,
   "metadata": {
    "collapsed": false
   },
   "outputs": [
    {
     "data": {
      "text/plain": [
       "['FOLK_S_00001',\n",
       " 'FOLK_S_00003',\n",
       " 'FOLK_S_00004',\n",
       " 'FOLK_S_00005',\n",
       " 'FOLK_S_00006',\n",
       " 'FOLK_S_00007',\n",
       " 'FOLK_S_00008',\n",
       " 'FOLK_S_00009',\n",
       " 'FOLK_S_00010',\n",
       " 'FOLK_S_00011',\n",
       " 'FOLK_S_00012',\n",
       " 'FOLK_S_00013',\n",
       " 'FOLK_S_00014',\n",
       " 'FOLK_S_00015',\n",
       " 'FOLK_S_00016',\n",
       " 'FOLK_S_00017',\n",
       " 'FOLK_S_00018',\n",
       " 'FOLK_S_00019',\n",
       " 'FOLK_S_00020',\n",
       " 'FOLK_S_00021',\n",
       " 'FOLK_S_00022',\n",
       " 'FOLK_S_00023',\n",
       " 'FOLK_S_00024',\n",
       " 'FOLK_S_00026']"
      ]
     },
     "execution_count": 21,
     "metadata": {},
     "output_type": "execute_result"
    }
   ],
   "source": [
    "joint"
   ]
  },
  {
   "cell_type": "code",
   "execution_count": 7,
   "metadata": {
    "collapsed": false
   },
   "outputs": [
    {
     "data": {
      "text/plain": [
       "'cmdi_FOLK_extern.xml'"
      ]
     },
     "execution_count": 7,
     "metadata": {},
     "output_type": "execute_result"
    }
   ],
   "source": [
    "resourcetree.node.get('FOLK').get(\"filename\")"
   ]
  },
  {
   "cell_type": "code",
   "execution_count": null,
   "metadata": {
    "collapsed": true
   },
   "outputs": [],
   "source": [
    "resourcetree."
   ]
  }
 ],
 "metadata": {
  "kernelspec": {
   "display_name": "Python 2",
   "language": "python",
   "name": "python2"
  },
  "language_info": {
   "codemirror_mode": {
    "name": "ipython",
    "version": 2
   },
   "file_extension": ".py",
   "mimetype": "text/x-python",
   "name": "python",
   "nbconvert_exporter": "python",
   "pygments_lexer": "ipython2",
   "version": "2.7.6"
  }
 },
 "nbformat": 4,
 "nbformat_minor": 0
}
