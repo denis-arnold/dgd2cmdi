{
 "cells": [
  {
   "cell_type": "markdown",
   "metadata": {},
   "source": [
    "# Extract speaker information and insert it into an event file"
   ]
  },
  {
   "cell_type": "code",
   "execution_count": 1,
   "metadata": {
    "collapsed": false
   },
   "outputs": [],
   "source": [
    "from batchxslt import cmdiresource"
   ]
  },
  {
   "cell_type": "code",
   "execution_count": null,
   "metadata": {
    "collapsed": true
   },
   "outputs": [],
   "source": [
    "cmdiresource.ResourceTreeCollection?"
   ]
  },
  {
   "cell_type": "code",
   "execution_count": 2,
   "metadata": {
    "collapsed": false
   },
   "outputs": [
    {
     "name": "stdout",
     "output_type": "stream",
     "text": [
      "events for CMDI_PF--_S_00001: \n",
      "('PF', 'CMDI_PF--_S_00001')\n"
     ]
    }
   ],
   "source": [
    "resource = cmdiresource.ResourceTreeCollection('../testing/corpus/', '../testing/event/', '../testing/speakers/', '/home/kuhn/IDS/Repos/svn/dgd2_data_rev1233/dgd2_data/transcripts/')\n"
   ]
  },
  {
   "cell_type": "code",
   "execution_count": 3,
   "metadata": {
    "collapsed": false
   },
   "outputs": [
    {
     "name": "stdout",
     "output_type": "stream",
     "text": [
      "('CMDI_PF--_E_00001', 'PF--_S_00001')\n",
      "('CMDI_PF--_E_00001', 'PF--_S_00001')\n",
      "('CMDI_PF--_E_00001', 'PF--_E_00001_SE_01_A_01_DF_01')\n",
      "('PF', 'CMDI_PF--_E_00001')\n",
      "('PF', 'CMDI_PF--_S_00001')\n",
      "('AGD_root', 'PF')\n"
     ]
    }
   ],
   "source": [
    "for edge in resource.edges_iter():\n",
    "    print edge"
   ]
  },
  {
   "cell_type": "code",
   "execution_count": 4,
   "metadata": {
    "collapsed": false
   },
   "outputs": [
    {
     "name": "stdout",
     "output_type": "stream",
     "text": [
      "CMDI_PF--_E_00001\n",
      "CMDI_PF--_S_00001\n",
      "PF\n",
      "AGD_root\n",
      "PF--_E_00001_SE_01_A_01_DF_01\n",
      "PF--_S_00001\n"
     ]
    }
   ],
   "source": [
    "for node in resource.nodes_iter():\n",
    "    if resource.node.get(node).get('type') != 'transcript':\n",
    "        print node"
   ]
  },
  {
   "cell_type": "code",
   "execution_count": 5,
   "metadata": {
    "collapsed": false
   },
   "outputs": [
    {
     "name": "stdout",
     "output_type": "stream",
     "text": [
      "events for CMDI_PF--_E_00001: \n",
      "('PF', 'CMDI_PF--_E_00001')\n",
      "events for CMDI_PF--_S_00001: \n",
      "('PF', 'CMDI_PF--_S_00001')\n",
      "events for PF: \n",
      "('AGD_root', 'PF')\n",
      "events for AGD_root: \n",
      "events for PF--_E_00001_SE_01_A_01_DF_01: \n",
      "('CMDI_PF--_E_00001', 'PF--_E_00001_SE_01_A_01_DF_01')\n",
      "events for PF--_S_00001: \n",
      "('CMDI_PF--_E_00001', 'PF--_S_00001')\n",
      "('CMDI_PF--_E_00001', 'PF--_S_00001')\n"
     ]
    }
   ],
   "source": [
    "# check 'find_events'\n",
    "for node in resource.nodes_iter():\n",
    "    if resource.node.get(node).get('type') != 'transcript':\n",
    "        resource.find_events(node)"
   ]
  },
  {
   "cell_type": "code",
   "execution_count": 7,
   "metadata": {
    "collapsed": false
   },
   "outputs": [
    {
     "name": "stdout",
     "output_type": "stream",
     "text": [
      "events for CMDI_PF--_S_00001: \n",
      "('PF', 'CMDI_PF--_S_00001')\n",
      "<lxml.etree._ElementTree object at 0x7f6e0f8c5638>\n"
     ]
    }
   ],
   "source": [
    "# check 'speaker2event'\n",
    "for node in resource.nodes_iter():\n",
    "    if resource.node.get(node).get('type') == 'speaker':\n",
    "        resource.speaker2event(node)\n",
    "        print resource.node.get(node).get('etreeobject')"
   ]
  },
  {
   "cell_type": "code",
   "execution_count": 10,
   "metadata": {
    "collapsed": false
   },
   "outputs": [
    {
     "name": "stdout",
     "output_type": "stream",
     "text": [
      "in edges:\n",
      "[('PF', 'CMDI_PF--_S_00001')]\n",
      "out edges:\n",
      "[]\n"
     ]
    }
   ],
   "source": [
    "for node in resource.nodes_iter():\n",
    "    if resource.node.get(node).get('type') == 'speaker':\n",
    "        print \"in edges:\"\n",
    "        print resource.in_edges(node)\n",
    "        print \"out edges:\"\n",
    "        print resource.out_edges(node)"
   ]
  },
  {
   "cell_type": "markdown",
   "metadata": {},
   "source": [
    "**Check what is buggy when initialzing the resource tree** "
   ]
  },
  {
   "cell_type": "code",
   "execution_count": null,
   "metadata": {
    "collapsed": true
   },
   "outputs": [],
   "source": []
  }
 ],
 "metadata": {
  "kernelspec": {
   "display_name": "Python 2",
   "language": "python",
   "name": "python2"
  },
  "language_info": {
   "codemirror_mode": {
    "name": "ipython",
    "version": 2
   },
   "file_extension": ".py",
   "mimetype": "text/x-python",
   "name": "python",
   "nbconvert_exporter": "python",
   "pygments_lexer": "ipython2",
   "version": "2.7.10"
  }
 },
 "nbformat": 4,
 "nbformat_minor": 0
}
