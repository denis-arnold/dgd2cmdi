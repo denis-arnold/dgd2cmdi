{
 "cells": [
  {
   "cell_type": "markdown",
   "metadata": {},
   "source": [
    "# Extract speaker information and insert it into an event file"
   ]
  },
  {
   "cell_type": "code",
   "execution_count": 4,
   "metadata": {
    "collapsed": false
   },
   "outputs": [],
   "source": [
    "from batchxslt import cmdiresource"
   ]
  },
  {
   "cell_type": "code",
   "execution_count": 5,
   "metadata": {
    "collapsed": true
   },
   "outputs": [],
   "source": [
    "cmdiresource.ResourceTreeCollection?"
   ]
  },
  {
   "cell_type": "code",
   "execution_count": 8,
   "metadata": {
    "collapsed": false
   },
   "outputs": [
    {
     "ename": "UnboundLocalError",
     "evalue": "local variable 'eventnodename' referenced before assignment",
     "output_type": "error",
     "traceback": [
      "\u001b[1;31m---------------------------------------------------------------------------\u001b[0m",
      "\u001b[1;31mUnboundLocalError\u001b[0m                         Traceback (most recent call last)",
      "\u001b[1;32m<ipython-input-8-a0ddc195be24>\u001b[0m in \u001b[0;36m<module>\u001b[1;34m()\u001b[0m\n\u001b[1;32m----> 1\u001b[1;33m \u001b[0mcmdiresource\u001b[0m\u001b[1;33m.\u001b[0m\u001b[0mResourceTreeCollection\u001b[0m\u001b[1;33m(\u001b[0m\u001b[1;34m'../testing/corpus/'\u001b[0m\u001b[1;33m,\u001b[0m \u001b[1;34m'../testing/event/'\u001b[0m\u001b[1;33m,\u001b[0m \u001b[1;34m'../testing/speakers/'\u001b[0m\u001b[1;33m,\u001b[0m \u001b[1;34m'/home/kuhn/IDS/Repos/svn/dgd2_data_rev1233/dgd2_data'\u001b[0m\u001b[1;33m)\u001b[0m\u001b[1;33m\u001b[0m\u001b[0m\n\u001b[0m",
      "\u001b[1;32m/usr/local/lib/python2.7/dist-packages/dgd2cmdi-0.4-py2.7.egg/batchxslt/cmdiresource.pyc\u001b[0m in \u001b[0;36m__init__\u001b[1;34m(self, corpuspath, eventspath, speakerspath, transcriptspath)\u001b[0m\n\u001b[0;32m    100\u001b[0m                     \u001b[0mself\u001b[0m\u001b[1;33m.\u001b[0m\u001b[0mfind_media\u001b[0m\u001b[1;33m(\u001b[0m\u001b[0meventnodename\u001b[0m\u001b[1;33m)\u001b[0m\u001b[1;33m\u001b[0m\u001b[0m\n\u001b[0;32m    101\u001b[0m             \u001b[1;31m# finally connect an event to all speakers that take part in it.\u001b[0m\u001b[1;33m\u001b[0m\u001b[1;33m\u001b[0m\u001b[0m\n\u001b[1;32m--> 102\u001b[1;33m             \u001b[1;32mfor\u001b[0m \u001b[0mspeaker\u001b[0m \u001b[1;32min\u001b[0m \u001b[0mself\u001b[0m\u001b[1;33m.\u001b[0m\u001b[0mfind_speakers\u001b[0m\u001b[1;33m(\u001b[0m\u001b[0meventnodename\u001b[0m\u001b[1;33m)\u001b[0m\u001b[1;33m:\u001b[0m\u001b[1;33m\u001b[0m\u001b[0m\n\u001b[0m\u001b[0;32m    103\u001b[0m                 \u001b[0mself\u001b[0m\u001b[1;33m.\u001b[0m\u001b[0madd_edge\u001b[0m\u001b[1;33m(\u001b[0m\u001b[0meventnodename\u001b[0m\u001b[1;33m,\u001b[0m \u001b[0mspeaker\u001b[0m\u001b[1;33m)\u001b[0m\u001b[1;33m\u001b[0m\u001b[0m\n\u001b[0;32m    104\u001b[0m \u001b[1;33m\u001b[0m\u001b[0m\n",
      "\u001b[1;31mUnboundLocalError\u001b[0m: local variable 'eventnodename' referenced before assignment"
     ]
    }
   ],
   "source": [
    "cmdiresource.ResourceTreeCollection('../testing/corpus/', '../testing/event/', '../testing/speakers/', '/home/kuhn/IDS/Repos/svn/dgd2_data_rev1233/dgd2_data/transcripts/')\n"
   ]
  },
  {
   "cell_type": "code",
   "execution_count": null,
   "metadata": {
    "collapsed": true
   },
   "outputs": [],
   "source": []
  }
 ],
 "metadata": {
  "kernelspec": {
   "display_name": "Python 2",
   "language": "python",
   "name": "python2"
  },
  "language_info": {
   "codemirror_mode": {
    "name": "ipython",
    "version": 2
   },
   "file_extension": ".py",
   "mimetype": "text/x-python",
   "name": "python",
   "nbconvert_exporter": "python",
   "pygments_lexer": "ipython2",
   "version": "2.7.10"
  }
 },
 "nbformat": 4,
 "nbformat_minor": 0
}
