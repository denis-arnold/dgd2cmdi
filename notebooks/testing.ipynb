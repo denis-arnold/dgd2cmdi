{
 "cells": [
  {
   "cell_type": "markdown",
   "metadata": {},
   "source": [
    "# Extract speaker information and insert it into an event file"
   ]
  },
  {
   "cell_type": "markdown",
   "metadata": {},
   "source": [
    "There are still errors when initializing the resource tree with metadata of dgd revision 1233. \n",
    "This notebook collects testing scripts. The relevant functions are tested with a minimal set of example metadata resources of the PF corpus."
   ]
  },
  {
   "cell_type": "code",
   "execution_count": 14,
   "metadata": {
    "collapsed": false
   },
   "outputs": [],
   "source": [
    "from batchxslt import cmdiresource"
   ]
  },
  {
   "cell_type": "markdown",
   "metadata": {},
   "source": [
    "Check the documentation for the relevant class"
   ]
  },
  {
   "cell_type": "code",
   "execution_count": 17,
   "metadata": {
    "collapsed": true
   },
   "outputs": [],
   "source": [
    "cmdiresource.ResourceTreeCollection?"
   ]
  },
  {
   "cell_type": "code",
   "execution_count": 22,
   "metadata": {
    "collapsed": false
   },
   "outputs": [
    {
     "name": "stdout",
     "output_type": "stream",
     "text": [
      "events for CMDI_PF--_S_00001: \n",
      "('PF', 'CMDI_PF--_S_00001')\n"
     ]
    }
   ],
   "source": [
    "resource = cmdiresource.ResourceTreeCollection('../testing/corpus/', '../testing/event/', '../testing/speakers/', '/home/kuhn/IDS/Repos/svn/dgd2_data_rev1233/dgd2_data/transcripts/')\n"
   ]
  },
  {
   "cell_type": "code",
   "execution_count": 21,
   "metadata": {
    "collapsed": false
   },
   "outputs": [
    {
     "name": "stdout",
     "output_type": "stream",
     "text": [
      "('CMDI_PF--_E_00001', 'PF--_S_00001')\n",
      "('CMDI_PF--_E_00001', 'PF--_S_00001')\n",
      "('CMDI_PF--_E_00001', 'PF--_E_00001_SE_01_A_01_DF_01')\n",
      "('PF', 'CMDI_PF--_E_00001')\n",
      "('PF', 'CMDI_PF--_S_00001')\n",
      "('AGD_root', 'PF')\n"
     ]
    }
   ],
   "source": [
    "for edge in resource.edges_iter():\n",
    "    print edge"
   ]
  },
  {
   "cell_type": "code",
   "execution_count": 18,
   "metadata": {
    "collapsed": false
   },
   "outputs": [
    {
     "name": "stdout",
     "output_type": "stream",
     "text": [
      "CMDI_PF--_E_00001\n",
      "CMDI_PF--_S_00001\n",
      "PF\n",
      "AGD_root\n",
      "PF--_E_00001_SE_01_A_01_DF_01\n",
      "PF--_S_00001\n"
     ]
    }
   ],
   "source": [
    "for node in resource.nodes_iter():\n",
    "    if resource.node.get(node).get('type') != 'transcript':\n",
    "        print node"
   ]
  },
  {
   "cell_type": "code",
   "execution_count": 19,
   "metadata": {
    "collapsed": false
   },
   "outputs": [
    {
     "name": "stdout",
     "output_type": "stream",
     "text": [
      "events for CMDI_PF--_E_00001: \n",
      "('PF', 'CMDI_PF--_E_00001')\n",
      "events for CMDI_PF--_S_00001: \n",
      "('PF', 'CMDI_PF--_S_00001')\n",
      "events for PF: \n",
      "('AGD_root', 'PF')\n",
      "events for AGD_root: \n",
      "events for PF--_E_00001_SE_01_A_01_DF_01: \n",
      "('CMDI_PF--_E_00001', 'PF--_E_00001_SE_01_A_01_DF_01')\n",
      "events for PF--_S_00001: \n",
      "('CMDI_PF--_E_00001', 'PF--_S_00001')\n",
      "('CMDI_PF--_E_00001', 'PF--_S_00001')\n"
     ]
    }
   ],
   "source": [
    "# check 'find_events'\n",
    "for node in resource.nodes_iter():\n",
    "    if resource.node.get(node).get('type') != 'transcript':\n",
    "        resource.find_events(node)"
   ]
  },
  {
   "cell_type": "code",
   "execution_count": 6,
   "metadata": {
    "collapsed": false
   },
   "outputs": [
    {
     "name": "stdout",
     "output_type": "stream",
     "text": [
      "events for CMDI_PF--_S_00001: \n",
      "('PF', 'CMDI_PF--_S_00001')\n",
      "<lxml.etree._ElementTree object at 0x7f7b300576c8>\n"
     ]
    }
   ],
   "source": [
    "# check 'speaker2event'\n",
    "for node in resource.nodes_iter():\n",
    "    if resource.node.get(node).get('type') == 'speaker':\n",
    "        resource.speaker2event(node)\n",
    "        print resource.node.get(node).get('etreeobject')"
   ]
  },
  {
   "cell_type": "code",
   "execution_count": 7,
   "metadata": {
    "collapsed": false
   },
   "outputs": [
    {
     "name": "stdout",
     "output_type": "stream",
     "text": [
      "in edges:\n",
      "[('PF', 'CMDI_PF--_S_00001')]\n",
      "out edges:\n",
      "[]\n"
     ]
    }
   ],
   "source": [
    "for node in resource.nodes_iter():\n",
    "    if resource.node.get(node).get('type') == 'speaker':\n",
    "        print \"in edges:\"\n",
    "        print resource.in_edges(node)\n",
    "        print \"out edges:\"\n",
    "        print resource.out_edges(node)"
   ]
  },
  {
   "cell_type": "markdown",
   "metadata": {},
   "source": [
    "**Check what is buggy when initialzing the resource tree** "
   ]
  },
  {
   "cell_type": "markdown",
   "metadata": {},
   "source": [
    "### Are the sessions of an event a speaker takes part in identified?"
   ]
  },
  {
   "cell_type": "code",
   "execution_count": 9,
   "metadata": {
    "collapsed": false
   },
   "outputs": [
    {
     "data": {
      "text/plain": [
       "['PF--_E_00001_SE_01']"
      ]
     },
     "execution_count": 9,
     "metadata": {},
     "output_type": "execute_result"
    }
   ],
   "source": [
    "resource.find_eventsessions('CMDI_PF--_S_00001')"
   ]
  },
  {
   "cell_type": "markdown",
   "metadata": {},
   "source": [
    "### Are speakers being listed in an event identified?"
   ]
  },
  {
   "cell_type": "code",
   "execution_count": 10,
   "metadata": {
    "collapsed": false
   },
   "outputs": [
    {
     "data": {
      "text/plain": [
       "['PF--_S_00001']"
      ]
     },
     "execution_count": 10,
     "metadata": {},
     "output_type": "execute_result"
    }
   ],
   "source": [
    "resource.find_speakers('CMDI_PF--_E_00001')"
   ]
  },
  {
   "cell_type": "markdown",
   "metadata": {},
   "source": [
    "### Is relevant speaker metadata retrieved correctly?"
   ]
  },
  {
   "cell_type": "code",
   "execution_count": 12,
   "metadata": {
    "collapsed": false,
    "scrolled": true
   },
   "outputs": [
    {
     "data": {
      "text/plain": [
       "{'Alias': '<Alias xmlns:xsi=\"http://www.w3.org/2001/XMLSchema-instance\">Nicht vorhanden</Alias>\\n        ',\n",
       " 'Components': '<Components xmlns:xsi=\"http://www.w3.org/2001/XMLSchema-instance\">\\n        <InEvents>\\n            <EventSession>PF--_E_00001_SE_01</EventSession>\\n        </InEvents>\\n        <Name>Nicht dokumentiert</Name>\\n        <Alias>Nicht vorhanden</Alias>\\n        <TranscriptID>S2</TranscriptID>\\n        <Sex xml:lang=\"deu\">Weiblich</Sex>\\n        <DateOfBirth>1944-01-01</DateOfBirth>\\n        <Education xml:lang=\"deu\">Nicht vorhanden</Education>\\n        <Profession xml:lang=\"deu\">Sch&#252;lerin (Mittelschule)</Profession>\\n        <Ethnicity xml:lang=\"deu\">Nicht dokumentiert</Ethnicity>\\n        <Nationality xml:lang=\"deu\">Nicht dokumentiert</Nationality>\\n        <LocationData>\\n            <Location>\\n                <LocationType xml:lang=\"deu\">Geburtsort</LocationType>\\n                <Grid>2319 ; 2419</Grid>\\n                <Country xml:lang=\"deu\">Nicht dokumentiert</Country>\\n                <Region xml:lang=\"deu\">Nicht dokumentiert</Region>\\n                <Place xml:lang=\"deu\">Wolfenb&#252;ttel</Place>\\n            </Location>\\n            <Location>\\n                <LocationType xml:lang=\"deu\">Schulort</LocationType>\\n                <Grid>2318 ; 2319</Grid>\\n                <Country xml:lang=\"deu\">Nicht dokumentiert</Country>\\n                <Region xml:lang=\"deu\">Nicht dokumentiert</Region>\\n                <Place xml:lang=\"deu\">Braunschweig</Place>\\n            </Location>\\n            <Location>\\n                <LocationType xml:lang=\"deu\">Lehrort</LocationType>\\n                <Grid>Nicht dokumentiert</Grid>\\n                <Country xml:lang=\"deu\">Nicht dokumentiert</Country>\\n                <Region xml:lang=\"deu\">Nicht dokumentiert</Region>\\n                <Place xml:lang=\"deu\">Nicht dokumentiert</Place>\\n            </Location>\\n            <Location>\\n                <LocationType xml:lang=\"deu\">Arbeitsort</LocationType>\\n                <Grid>Nicht dokumentiert</Grid>\\n                <Country xml:lang=\"deu\">Nicht dokumentiert</Country>\\n                <Region xml:lang=\"deu\">Nicht dokumentiert</Region>\\n                <Place xml:lang=\"deu\">Nicht dokumentiert</Place>\\n            </Location>\\n            <Location>\\n                <LocationType xml:lang=\"deu\">Wohnort</LocationType>\\n                <Grid>2318 ; 2319</Grid>\\n                <Country xml:lang=\"deu\">Nicht dokumentiert</Country>\\n                <Region xml:lang=\"deu\">Nicht dokumentiert</Region>\\n                <Place xml:lang=\"deu\">Braunschweig</Place>\\n            </Location>\\n            <Location>\\n                <LocationType xml:lang=\"deu\">Mundartort</LocationType>\\n                <Grid>2318 ; 2319</Grid>\\n                <Country xml:lang=\"deu\">Nicht dokumentiert</Country>\\n                <Region xml:lang=\"deu\">Nicht dokumentiert</Region>\\n                <Place xml:lang=\"deu\">Braunschweig</Place>\\n            </Location>\\n        </LocationData>\\n        <LanguageData/>\\n    </Components>\\n',\n",
       " 'Country': '<Country xmlns:xsi=\"http://www.w3.org/2001/XMLSchema-instance\" xml:lang=\"deu\">Nicht dokumentiert</Country>\\n                ',\n",
       " 'DateOfBirth': '<DateOfBirth xmlns:xsi=\"http://www.w3.org/2001/XMLSchema-instance\">1944-01-01</DateOfBirth>\\n        ',\n",
       " 'Education': '<Education xmlns:xsi=\"http://www.w3.org/2001/XMLSchema-instance\" xml:lang=\"deu\">Nicht vorhanden</Education>\\n        ',\n",
       " 'Ethnicity': '<Ethnicity xmlns:xsi=\"http://www.w3.org/2001/XMLSchema-instance\" xml:lang=\"deu\">Nicht dokumentiert</Ethnicity>\\n        ',\n",
       " 'EventSession': '<EventSession xmlns:xsi=\"http://www.w3.org/2001/XMLSchema-instance\">PF--_E_00001_SE_01</EventSession>\\n        ',\n",
       " 'Grid': '<Grid xmlns:xsi=\"http://www.w3.org/2001/XMLSchema-instance\">2318 ; 2319</Grid>\\n                ',\n",
       " 'InEvents': '<InEvents xmlns:xsi=\"http://www.w3.org/2001/XMLSchema-instance\">\\n            <EventSession>PF--_E_00001_SE_01</EventSession>\\n        </InEvents>\\n        ',\n",
       " 'LanguageData': '<LanguageData xmlns:xsi=\"http://www.w3.org/2001/XMLSchema-instance\"/>\\n    ',\n",
       " 'Location': '<Location xmlns:xsi=\"http://www.w3.org/2001/XMLSchema-instance\">\\n                <LocationType xml:lang=\"deu\">Mundartort</LocationType>\\n                <Grid>2318 ; 2319</Grid>\\n                <Country xml:lang=\"deu\">Nicht dokumentiert</Country>\\n                <Region xml:lang=\"deu\">Nicht dokumentiert</Region>\\n                <Place xml:lang=\"deu\">Braunschweig</Place>\\n            </Location>\\n        ',\n",
       " 'LocationData': '<LocationData xmlns:xsi=\"http://www.w3.org/2001/XMLSchema-instance\">\\n            <Location>\\n                <LocationType xml:lang=\"deu\">Geburtsort</LocationType>\\n                <Grid>2319 ; 2419</Grid>\\n                <Country xml:lang=\"deu\">Nicht dokumentiert</Country>\\n                <Region xml:lang=\"deu\">Nicht dokumentiert</Region>\\n                <Place xml:lang=\"deu\">Wolfenb&#252;ttel</Place>\\n            </Location>\\n            <Location>\\n                <LocationType xml:lang=\"deu\">Schulort</LocationType>\\n                <Grid>2318 ; 2319</Grid>\\n                <Country xml:lang=\"deu\">Nicht dokumentiert</Country>\\n                <Region xml:lang=\"deu\">Nicht dokumentiert</Region>\\n                <Place xml:lang=\"deu\">Braunschweig</Place>\\n            </Location>\\n            <Location>\\n                <LocationType xml:lang=\"deu\">Lehrort</LocationType>\\n                <Grid>Nicht dokumentiert</Grid>\\n                <Country xml:lang=\"deu\">Nicht dokumentiert</Country>\\n                <Region xml:lang=\"deu\">Nicht dokumentiert</Region>\\n                <Place xml:lang=\"deu\">Nicht dokumentiert</Place>\\n            </Location>\\n            <Location>\\n                <LocationType xml:lang=\"deu\">Arbeitsort</LocationType>\\n                <Grid>Nicht dokumentiert</Grid>\\n                <Country xml:lang=\"deu\">Nicht dokumentiert</Country>\\n                <Region xml:lang=\"deu\">Nicht dokumentiert</Region>\\n                <Place xml:lang=\"deu\">Nicht dokumentiert</Place>\\n            </Location>\\n            <Location>\\n                <LocationType xml:lang=\"deu\">Wohnort</LocationType>\\n                <Grid>2318 ; 2319</Grid>\\n                <Country xml:lang=\"deu\">Nicht dokumentiert</Country>\\n                <Region xml:lang=\"deu\">Nicht dokumentiert</Region>\\n                <Place xml:lang=\"deu\">Braunschweig</Place>\\n            </Location>\\n            <Location>\\n                <LocationType xml:lang=\"deu\">Mundartort</LocationType>\\n                <Grid>2318 ; 2319</Grid>\\n                <Country xml:lang=\"deu\">Nicht dokumentiert</Country>\\n                <Region xml:lang=\"deu\">Nicht dokumentiert</Region>\\n                <Place xml:lang=\"deu\">Braunschweig</Place>\\n            </Location>\\n        </LocationData>\\n        ',\n",
       " 'LocationType': '<LocationType xmlns:xsi=\"http://www.w3.org/2001/XMLSchema-instance\" xml:lang=\"deu\">Mundartort</LocationType>\\n                ',\n",
       " 'Name': '<Name xmlns:xsi=\"http://www.w3.org/2001/XMLSchema-instance\">Nicht dokumentiert</Name>\\n        ',\n",
       " 'Nationality': '<Nationality xmlns:xsi=\"http://www.w3.org/2001/XMLSchema-instance\" xml:lang=\"deu\">Nicht dokumentiert</Nationality>\\n        ',\n",
       " 'Place': '<Place xmlns:xsi=\"http://www.w3.org/2001/XMLSchema-instance\" xml:lang=\"deu\">Braunschweig</Place>\\n            ',\n",
       " 'Profession': '<Profession xmlns:xsi=\"http://www.w3.org/2001/XMLSchema-instance\" xml:lang=\"deu\">Sch&#252;lerin (Mittelschule)</Profession>\\n        ',\n",
       " 'Region': '<Region xmlns:xsi=\"http://www.w3.org/2001/XMLSchema-instance\" xml:lang=\"deu\">Nicht dokumentiert</Region>\\n                ',\n",
       " 'Sex': '<Sex xmlns:xsi=\"http://www.w3.org/2001/XMLSchema-instance\" xml:lang=\"deu\">Weiblich</Sex>\\n        ',\n",
       " 'TranscriptID': '<TranscriptID xmlns:xsi=\"http://www.w3.org/2001/XMLSchema-instance\">S2</TranscriptID>\\n        '}"
      ]
     },
     "execution_count": 12,
     "metadata": {},
     "output_type": "execute_result"
    }
   ],
   "source": [
    "resource.get_speaker_data('CMDI_PF--_S_00001')"
   ]
  },
  {
   "cell_type": "markdown",
   "metadata": {},
   "source": [
    "### Show all successor nodes of the example event resource"
   ]
  },
  {
   "cell_type": "code",
   "execution_count": 25,
   "metadata": {
    "collapsed": false
   },
   "outputs": [
    {
     "data": {
      "text/plain": [
       "['PF--_S_00001', 'PF--_E_00001_SE_01_A_01_DF_01']"
      ]
     },
     "execution_count": 25,
     "metadata": {},
     "output_type": "execute_result"
    }
   ],
   "source": [
    "resource.neighbors('CMDI_PF--_E_00001')"
   ]
  },
  {
   "cell_type": "code",
   "execution_count": null,
   "metadata": {
    "collapsed": true
   },
   "outputs": [],
   "source": []
  }
 ],
 "metadata": {
  "kernelspec": {
   "display_name": "Python 2",
   "language": "python",
   "name": "python2"
  },
  "language_info": {
   "codemirror_mode": {
    "name": "ipython",
    "version": 2
   },
   "file_extension": ".py",
   "mimetype": "text/x-python",
   "name": "python",
   "nbconvert_exporter": "python",
   "pygments_lexer": "ipython2",
   "version": "2.7.10"
  }
 },
 "nbformat": 4,
 "nbformat_minor": 0
}
