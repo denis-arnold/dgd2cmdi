{
 "cells": [
  {
   "cell_type": "code",
   "execution_count": 1,
   "metadata": {
    "collapsed": true
   },
   "outputs": [],
   "source": [
    "import os\n",
    "\n",
    "\n",
    "from batchxslt import cmdiresource\n",
    "\n",
    "\n",
    "corpus = \"/tmp/cmdi/corpus/\"\n",
    "event = \"/tmp/cmdi/events/\"\n",
    "speakers = \"//tmp/cmdi/speakers/\"\n",
    "transcripts = \"/home/kuhn/Data/IDS/svn_rev1233/dgd2_data/transcripts/\"\n",
    "\n",
    "cmdi_final = '/tmp/cmdi/cmdiPF/'\n",
    "\n",
    "resourcetree = cmdiresource.ResourceTreeCollection(corpus, event, speakers, transcripts)"
   ]
  },
  {
   "cell_type": "code",
   "execution_count": 3,
   "metadata": {
    "collapsed": false
   },
   "outputs": [
    {
     "data": {
      "text/plain": [
       "'Nicht dokumentiert'"
      ]
     },
     "execution_count": 3,
     "metadata": {},
     "output_type": "execute_result"
    }
   ],
   "source": [
    "resourcetree.node.get('PF--_S_00129').get('etreeobject').xpath('//Name')[0].text"
   ]
  },
  {
   "cell_type": "code",
   "execution_count": 4,
   "metadata": {
    "collapsed": false
   },
   "outputs": [
    {
     "data": {
      "text/plain": [
       "'Nicht dokumentiert'"
      ]
     },
     "execution_count": 4,
     "metadata": {},
     "output_type": "execute_result"
    }
   ],
   "source": [
    "resourcetree.node.get('PF--_S_00277').get('etreeobject').xpath('//Name')[0].text"
   ]
  },
  {
   "cell_type": "code",
   "execution_count": 5,
   "metadata": {
    "collapsed": false
   },
   "outputs": [
    {
     "name": "stderr",
     "output_type": "stream",
     "text": [
      "ERROR:root:speaker2event: error while accessing speaker etree: PF--_S_00277\n",
      "ERROR:root:speaker2event: error while accessing speaker etree: PF--_S_00277\n",
      "ERROR:root:speaker2event: error while accessing speaker etree: PF--_S_00277\n",
      "ERROR:root:speaker2event: error while accessing speaker etree: PF--_S_00277\n",
      "ERROR:root:speaker2event: error while accessing speaker etree: PF--_S_00277\n",
      "ERROR:root:speaker2event: error while accessing speaker etree: PF--_S_00277\n",
      "ERROR:root:speaker2event: error while accessing speaker etree: PF--_S_00277\n",
      "ERROR:root:speaker2event: error while accessing speaker etree: PF--_S_00277\n",
      "ERROR:root:speaker2event: error while accessing speaker etree: PF--_S_00277\n",
      "ERROR:root:speaker2event: error while accessing speaker etree: PF--_S_00129\n",
      "ERROR:root:speaker2event: error while accessing speaker etree: PF--_S_00129\n",
      "ERROR:root:speaker2event: error while accessing speaker etree: PF--_S_00129\n",
      "ERROR:root:speaker2event: error while accessing speaker etree: PF--_S_00129\n",
      "ERROR:root:speaker2event: error while accessing speaker etree: PF--_S_00129\n",
      "ERROR:root:speaker2event: error while accessing speaker etree: PF--_S_00129\n",
      "ERROR:root:speaker2event: error while accessing speaker etree: PF--_S_00129\n",
      "ERROR:root:speaker2event: error while accessing speaker etree: PF--_S_00129\n",
      "ERROR:root:speaker2event: error while accessing speaker etree: PF--_S_00129\n"
     ]
    }
   ],
   "source": [
    "for nodename in resourcetree.nodes_iter():\n",
    "    if resourcetree.node.get(nodename).get('type') == 'event':\n",
    "        resourcetree.speaker2event(nodename)"
   ]
  },
  {
   "cell_type": "code",
   "execution_count": 6,
   "metadata": {
    "collapsed": true
   },
   "outputs": [],
   "source": [
    "resourcetree.speaker2event('PF--_S_00129')"
   ]
  },
  {
   "cell_type": "code",
   "execution_count": 13,
   "metadata": {
    "collapsed": false
   },
   "outputs": [
    {
     "data": {
      "text/plain": [
       "['PF--_E_00126', 'PF--_E_00127']"
      ]
     },
     "execution_count": 13,
     "metadata": {},
     "output_type": "execute_result"
    }
   ],
   "source": [
    "resourcetree.find_events('PF--_S_00129')"
   ]
  },
  {
   "cell_type": "code",
   "execution_count": 5,
   "metadata": {
    "collapsed": false
   },
   "outputs": [
    {
     "name": "stdout",
     "output_type": "stream",
     "text": [
      "PF--_S_00277\n",
      "PF--_S_00129\n"
     ]
    }
   ],
   "source": [
    "for noden in resourcetree.nodes_iter():\n",
    "    if resourcetree.node.get(noden).get('type') == 'speaker':\n",
    "        if len(resourcetree.find_events(noden)) > 1:\n",
    "            print noden"
   ]
  },
  {
   "cell_type": "code",
   "execution_count": 6,
   "metadata": {
    "collapsed": false
   },
   "outputs": [
    {
     "data": {
      "text/plain": [
       "['PF--_E_00276', 'PF--_E_00275']"
      ]
     },
     "execution_count": 6,
     "metadata": {},
     "output_type": "execute_result"
    }
   ],
   "source": [
    "resourcetree.find_events('PF--_S_00277')"
   ]
  },
  {
   "cell_type": "code",
   "execution_count": 2,
   "metadata": {
    "collapsed": false
   },
   "outputs": [],
   "source": [
    "spe = resourcetree.get_speaker_data('PF--_S_00277')"
   ]
  },
  {
   "cell_type": "code",
   "execution_count": 3,
   "metadata": {
    "collapsed": false
   },
   "outputs": [
    {
     "data": {
      "text/plain": [
       "{'Alias': '<Alias xmlns:xsi=\"http://www.w3.org/2001/XMLSchema-instance\">Nicht vorhanden</Alias>',\n",
       " 'Components': '<Components xmlns:xsi=\"http://www.w3.org/2001/XMLSchema-instance\"><InEvents><EventSession>PF--_E_00275_SE_01</EventSession><EventSession>PF--_E_00276_SE_01</EventSession></InEvents><Name>Nicht dokumentiert</Name><Alias>Nicht vorhanden</Alias><TranscriptID>S2</TranscriptID><Sex xml:lang=\"deu\">M&#228;nnlich</Sex><DateOfBirth>1892-01-01</DateOfBirth><Education xml:lang=\"deu\">Hochschule</Education><Profession xml:lang=\"deu\">Studienrat  ; Rentner</Profession><Ethnicity xml:lang=\"deu\">Nicht dokumentiert</Ethnicity><Nationality xml:lang=\"deu\">Nicht dokumentiert</Nationality><LocationData><Location><LocationType xml:lang=\"deu\">Geburtsort</LocationType><Grid>3031 ; 3032</Grid><Country xml:lang=\"deu\">Nicht dokumentiert</Country><Region xml:lang=\"deu\">Nicht dokumentiert</Region><Place xml:lang=\"deu\">Dresden</Place></Location><Location><LocationType xml:lang=\"deu\">Schulort</LocationType><Grid>Nicht dokumentiert</Grid><Country xml:lang=\"deu\">Nicht dokumentiert</Country><Region xml:lang=\"deu\">Nicht dokumentiert</Region><Place xml:lang=\"deu\">L&#246;&#223;nitz</Place></Location><Location><LocationType xml:lang=\"deu\">Schulort</LocationType><Grid>3031 ; 3032</Grid><Country xml:lang=\"deu\">Nicht dokumentiert</Country><Region xml:lang=\"deu\">Nicht dokumentiert</Region><Place xml:lang=\"deu\">Dresden</Place></Location><Location><LocationType xml:lang=\"deu\">Lehrort</LocationType><Grid>Nicht dokumentiert</Grid><Country xml:lang=\"deu\">Nicht dokumentiert</Country><Region xml:lang=\"deu\">Nicht dokumentiert</Region><Place xml:lang=\"deu\">Leipzig</Place></Location><Location><LocationType xml:lang=\"deu\">Arbeitsort</LocationType><Grid>3031 ; 3032</Grid><Country xml:lang=\"deu\">Nicht dokumentiert</Country><Region xml:lang=\"deu\">Nicht dokumentiert</Region><Place xml:lang=\"deu\">Dresden</Place></Location><Location><LocationType xml:lang=\"deu\">Wohnort</LocationType><Grid>3031 ; 3032</Grid><Country xml:lang=\"deu\">Nicht dokumentiert</Country><Region xml:lang=\"deu\">Nicht dokumentiert</Region><Place xml:lang=\"deu\">Dresden</Place></Location><Location><LocationType xml:lang=\"deu\">Mundartort</LocationType><Grid>Nicht dokumentiert</Grid><Country xml:lang=\"deu\">Nicht dokumentiert</Country><Region xml:lang=\"deu\">Nicht dokumentiert</Region><Place xml:lang=\"deu\">L&#246;&#223;nitz</Place></Location><Location><LocationType xml:lang=\"deu\">Mundartort</LocationType><Grid>3031 ; 3032</Grid><Country xml:lang=\"deu\">Nicht dokumentiert</Country><Region xml:lang=\"deu\">Nicht dokumentiert</Region><Place xml:lang=\"deu\">Dresden</Place></Location></LocationData><LanguageData/></Components>',\n",
       " 'Country': '<Country xmlns:xsi=\"http://www.w3.org/2001/XMLSchema-instance\" xml:lang=\"deu\">Nicht dokumentiert</Country>',\n",
       " 'DateOfBirth': '<DateOfBirth xmlns:xsi=\"http://www.w3.org/2001/XMLSchema-instance\">1892-01-01</DateOfBirth>',\n",
       " 'Education': '<Education xmlns:xsi=\"http://www.w3.org/2001/XMLSchema-instance\" xml:lang=\"deu\">Hochschule</Education>',\n",
       " 'Ethnicity': '<Ethnicity xmlns:xsi=\"http://www.w3.org/2001/XMLSchema-instance\" xml:lang=\"deu\">Nicht dokumentiert</Ethnicity>',\n",
       " 'EventSession': '<EventSession xmlns:xsi=\"http://www.w3.org/2001/XMLSchema-instance\">PF--_E_00276_SE_01</EventSession>',\n",
       " 'Grid': '<Grid xmlns:xsi=\"http://www.w3.org/2001/XMLSchema-instance\">3031 ; 3032</Grid>',\n",
       " 'InEvents': '<InEvents xmlns:xsi=\"http://www.w3.org/2001/XMLSchema-instance\"><EventSession>PF--_E_00275_SE_01</EventSession><EventSession>PF--_E_00276_SE_01</EventSession></InEvents>',\n",
       " 'LanguageData': '<LanguageData xmlns:xsi=\"http://www.w3.org/2001/XMLSchema-instance\"/>',\n",
       " 'Location': '<Location xmlns:xsi=\"http://www.w3.org/2001/XMLSchema-instance\"><LocationType xml:lang=\"deu\">Mundartort</LocationType><Grid>3031 ; 3032</Grid><Country xml:lang=\"deu\">Nicht dokumentiert</Country><Region xml:lang=\"deu\">Nicht dokumentiert</Region><Place xml:lang=\"deu\">Dresden</Place></Location>',\n",
       " 'LocationData': '<LocationData xmlns:xsi=\"http://www.w3.org/2001/XMLSchema-instance\"><Location><LocationType xml:lang=\"deu\">Geburtsort</LocationType><Grid>3031 ; 3032</Grid><Country xml:lang=\"deu\">Nicht dokumentiert</Country><Region xml:lang=\"deu\">Nicht dokumentiert</Region><Place xml:lang=\"deu\">Dresden</Place></Location><Location><LocationType xml:lang=\"deu\">Schulort</LocationType><Grid>Nicht dokumentiert</Grid><Country xml:lang=\"deu\">Nicht dokumentiert</Country><Region xml:lang=\"deu\">Nicht dokumentiert</Region><Place xml:lang=\"deu\">L&#246;&#223;nitz</Place></Location><Location><LocationType xml:lang=\"deu\">Schulort</LocationType><Grid>3031 ; 3032</Grid><Country xml:lang=\"deu\">Nicht dokumentiert</Country><Region xml:lang=\"deu\">Nicht dokumentiert</Region><Place xml:lang=\"deu\">Dresden</Place></Location><Location><LocationType xml:lang=\"deu\">Lehrort</LocationType><Grid>Nicht dokumentiert</Grid><Country xml:lang=\"deu\">Nicht dokumentiert</Country><Region xml:lang=\"deu\">Nicht dokumentiert</Region><Place xml:lang=\"deu\">Leipzig</Place></Location><Location><LocationType xml:lang=\"deu\">Arbeitsort</LocationType><Grid>3031 ; 3032</Grid><Country xml:lang=\"deu\">Nicht dokumentiert</Country><Region xml:lang=\"deu\">Nicht dokumentiert</Region><Place xml:lang=\"deu\">Dresden</Place></Location><Location><LocationType xml:lang=\"deu\">Wohnort</LocationType><Grid>3031 ; 3032</Grid><Country xml:lang=\"deu\">Nicht dokumentiert</Country><Region xml:lang=\"deu\">Nicht dokumentiert</Region><Place xml:lang=\"deu\">Dresden</Place></Location><Location><LocationType xml:lang=\"deu\">Mundartort</LocationType><Grid>Nicht dokumentiert</Grid><Country xml:lang=\"deu\">Nicht dokumentiert</Country><Region xml:lang=\"deu\">Nicht dokumentiert</Region><Place xml:lang=\"deu\">L&#246;&#223;nitz</Place></Location><Location><LocationType xml:lang=\"deu\">Mundartort</LocationType><Grid>3031 ; 3032</Grid><Country xml:lang=\"deu\">Nicht dokumentiert</Country><Region xml:lang=\"deu\">Nicht dokumentiert</Region><Place xml:lang=\"deu\">Dresden</Place></Location></LocationData>',\n",
       " 'LocationType': '<LocationType xmlns:xsi=\"http://www.w3.org/2001/XMLSchema-instance\" xml:lang=\"deu\">Mundartort</LocationType>',\n",
       " 'Name': '<Name xmlns:xsi=\"http://www.w3.org/2001/XMLSchema-instance\">Nicht dokumentiert</Name>',\n",
       " 'Nationality': '<Nationality xmlns:xsi=\"http://www.w3.org/2001/XMLSchema-instance\" xml:lang=\"deu\">Nicht dokumentiert</Nationality>',\n",
       " 'Place': '<Place xmlns:xsi=\"http://www.w3.org/2001/XMLSchema-instance\" xml:lang=\"deu\">Dresden</Place>',\n",
       " 'Profession': '<Profession xmlns:xsi=\"http://www.w3.org/2001/XMLSchema-instance\" xml:lang=\"deu\">Studienrat  ; Rentner</Profession>',\n",
       " 'Region': '<Region xmlns:xsi=\"http://www.w3.org/2001/XMLSchema-instance\" xml:lang=\"deu\">Nicht dokumentiert</Region>',\n",
       " 'Sex': '<Sex xmlns:xsi=\"http://www.w3.org/2001/XMLSchema-instance\" xml:lang=\"deu\">M&#228;nnlich</Sex>',\n",
       " 'TranscriptID': '<TranscriptID xmlns:xsi=\"http://www.w3.org/2001/XMLSchema-instance\">S2</TranscriptID>'}"
      ]
     },
     "execution_count": 3,
     "metadata": {},
     "output_type": "execute_result"
    }
   ],
   "source": [
    "spe"
   ]
  },
  {
   "cell_type": "code",
   "execution_count": null,
   "metadata": {
    "collapsed": true
   },
   "outputs": [],
   "source": [
    ""
   ]
  }
 ],
 "metadata": {
  "kernelspec": {
   "display_name": "Python 2",
   "language": "python",
   "name": "python2"
  },
  "language_info": {
   "codemirror_mode": {
    "name": "ipython",
    "version": 2.0
   },
   "file_extension": ".py",
   "mimetype": "text/x-python",
   "name": "python",
   "nbconvert_exporter": "python",
   "pygments_lexer": "ipython2",
   "version": "2.7.6"
  }
 },
 "nbformat": 4,
 "nbformat_minor": 0
}